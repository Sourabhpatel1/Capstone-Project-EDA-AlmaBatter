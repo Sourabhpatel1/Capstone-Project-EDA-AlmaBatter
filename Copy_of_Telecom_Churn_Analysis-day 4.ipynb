{
  "nbformat": 4,
  "nbformat_minor": 0,
  "metadata": {
    "colab": {
      "name": "Copy of Telecom Churn Analysis.ipynb",
      "provenance": [],
      "collapsed_sections": [],
      "mount_file_id": "1h3-JIZ-r7hyu9yArLbnqRSUwV9kaksYF",
      "authorship_tag": "ABX9TyMgbLsIwfWrRcN5fAQd6na9",
      "include_colab_link": true
    },
    "kernelspec": {
      "name": "python3",
      "display_name": "Python 3"
    },
    "language_info": {
      "name": "python"
    }
  },
  "cells": [
    {
      "cell_type": "markdown",
      "metadata": {
        "id": "view-in-github",
        "colab_type": "text"
      },
      "source": [
        "<a href=\"https://colab.research.google.com/github/Sourabhpatel1/Capstone-Project-EDA-AlmaBatter/blob/main/Copy_of_Telecom_Churn_Analysis-day%204.ipynb\" target=\"_parent\"><img src=\"https://colab.research.google.com/assets/colab-badge.svg\" alt=\"Open In Colab\"/></a>"
      ]
    },
    {
      "cell_type": "code",
      "metadata": {
        "id": "Q7JE9t-7GOBM"
      },
      "source": [
        "# Import required libraries\n",
        "import pandas as pd\n",
        "import numpy as np\n",
        "import matplotlib.pyplot as plt\n",
        "import seaborn as sns\n",
        "from collections import Counter\n",
        "%matplotlib inline"
      ],
      "execution_count": 1,
      "outputs": []
    },
    {
      "cell_type": "code",
      "metadata": {
        "id": "5Xi09VWFVgKt"
      },
      "source": [
        "# Setting pd option to stop displaying floats in scientific notation\n",
        "pd.set_option('display.float_format', lambda x: '%.5f' % x)"
      ],
      "execution_count": 2,
      "outputs": []
    },
    {
      "cell_type": "code",
      "metadata": {
        "id": "nYfVWbIOXSoV"
      },
      "source": [
        "# Setting figuresize for the seaborn plots\n",
        "# Ajust the plots by changing the values to suit your screen size\n",
        "sns.set(rc={'figure.figsize':(20,10)})"
      ],
      "execution_count": 3,
      "outputs": []
    },
    {
      "cell_type": "code",
      "metadata": {
        "colab": {
          "base_uri": "https://localhost:8080/"
        },
        "id": "7Fj-pYpD13Mg",
        "outputId": "c1abc513-b380-4271-e984-6f24520cc6a7"
      },
      "source": [
        "# Mounting Google Drive\n",
        "from google.colab import drive\n",
        "drive.mount('/content/drive')"
      ],
      "execution_count": 4,
      "outputs": [
        {
          "output_type": "stream",
          "name": "stdout",
          "text": [
            "Drive already mounted at /content/drive; to attempt to forcibly remount, call drive.mount(\"/content/drive\", force_remount=True).\n"
          ]
        }
      ]
    },
    {
      "cell_type": "code",
      "metadata": {
        "id": "wfOfwQxpGV57"
      },
      "source": [
        "# loading data\n",
        "churn_data = pd.read_csv(\"/content/drive/MyDrive/Copy of Telecom Churn.csv\")"
      ],
      "execution_count": 5,
      "outputs": []
    },
    {
      "cell_type": "code",
      "metadata": {
        "id": "r3uOG80DPGZj",
        "colab": {
          "base_uri": "https://localhost:8080/"
        },
        "outputId": "fb4b4803-f799-472a-dd0c-8319a349b554"
      },
      "source": [
        "# checking null values and column info\n",
        "churn_data.info()"
      ],
      "execution_count": 6,
      "outputs": [
        {
          "output_type": "stream",
          "name": "stdout",
          "text": [
            "<class 'pandas.core.frame.DataFrame'>\n",
            "RangeIndex: 3333 entries, 0 to 3332\n",
            "Data columns (total 20 columns):\n",
            " #   Column                  Non-Null Count  Dtype  \n",
            "---  ------                  --------------  -----  \n",
            " 0   State                   3333 non-null   object \n",
            " 1   Account length          3333 non-null   int64  \n",
            " 2   Area code               3333 non-null   int64  \n",
            " 3   International plan      3333 non-null   object \n",
            " 4   Voice mail plan         3333 non-null   object \n",
            " 5   Number vmail messages   3333 non-null   int64  \n",
            " 6   Total day minutes       3333 non-null   float64\n",
            " 7   Total day calls         3333 non-null   int64  \n",
            " 8   Total day charge        3333 non-null   float64\n",
            " 9   Total eve minutes       3333 non-null   float64\n",
            " 10  Total eve calls         3333 non-null   int64  \n",
            " 11  Total eve charge        3333 non-null   float64\n",
            " 12  Total night minutes     3333 non-null   float64\n",
            " 13  Total night calls       3333 non-null   int64  \n",
            " 14  Total night charge      3333 non-null   float64\n",
            " 15  Total intl minutes      3333 non-null   float64\n",
            " 16  Total intl calls        3333 non-null   int64  \n",
            " 17  Total intl charge       3333 non-null   float64\n",
            " 18  Customer service calls  3333 non-null   int64  \n",
            " 19  Churn                   3333 non-null   bool   \n",
            "dtypes: bool(1), float64(8), int64(8), object(3)\n",
            "memory usage: 498.1+ KB\n"
          ]
        }
      ]
    },
    {
      "cell_type": "markdown",
      "metadata": {
        "id": "GC-YRKeQrr-H"
      },
      "source": [
        "<p>There are no null Values in the Columns.</p> \n",
        "<p>Thus there is no need to handle null values.</p>\n",
        "<p> There are 16 numerical columns (8 float 64 and 8 int64), 3 object (text/categorical) columns and 1 column with boolean (True/False) datatype </p> \n",
        "\n",
        " "
      ]
    },
    {
      "cell_type": "code",
      "metadata": {
        "id": "Kl7M-Ob1-_Cz",
        "colab": {
          "base_uri": "https://localhost:8080/"
        },
        "outputId": "271c55ea-07d5-41d2-fd29-6f7ad469f864"
      },
      "source": [
        "# Checking the number of columns\n",
        "\n",
        "print(churn_data.columns)\n",
        "print(f\"\\n There are {len(churn_data.columns)} columns in the dataset\")"
      ],
      "execution_count": 7,
      "outputs": [
        {
          "output_type": "stream",
          "name": "stdout",
          "text": [
            "Index(['State', 'Account length', 'Area code', 'International plan',\n",
            "       'Voice mail plan', 'Number vmail messages', 'Total day minutes',\n",
            "       'Total day calls', 'Total day charge', 'Total eve minutes',\n",
            "       'Total eve calls', 'Total eve charge', 'Total night minutes',\n",
            "       'Total night calls', 'Total night charge', 'Total intl minutes',\n",
            "       'Total intl calls', 'Total intl charge', 'Customer service calls',\n",
            "       'Churn'],\n",
            "      dtype='object')\n",
            "\n",
            " There are 20 columns in the dataset\n"
          ]
        }
      ]
    },
    {
      "cell_type": "code",
      "metadata": {
        "colab": {
          "base_uri": "https://localhost:8080/",
          "height": 238
        },
        "id": "cMthEM7AGV35",
        "outputId": "29d315ea-cdcd-4dec-e272-e8e27cd84d4f"
      },
      "source": [
        "# checking the head\n",
        "churn_data.head()"
      ],
      "execution_count": 8,
      "outputs": [
        {
          "output_type": "execute_result",
          "data": {
            "text/html": [
              "<div>\n",
              "<style scoped>\n",
              "    .dataframe tbody tr th:only-of-type {\n",
              "        vertical-align: middle;\n",
              "    }\n",
              "\n",
              "    .dataframe tbody tr th {\n",
              "        vertical-align: top;\n",
              "    }\n",
              "\n",
              "    .dataframe thead th {\n",
              "        text-align: right;\n",
              "    }\n",
              "</style>\n",
              "<table border=\"1\" class=\"dataframe\">\n",
              "  <thead>\n",
              "    <tr style=\"text-align: right;\">\n",
              "      <th></th>\n",
              "      <th>State</th>\n",
              "      <th>Account length</th>\n",
              "      <th>Area code</th>\n",
              "      <th>International plan</th>\n",
              "      <th>Voice mail plan</th>\n",
              "      <th>Number vmail messages</th>\n",
              "      <th>Total day minutes</th>\n",
              "      <th>Total day calls</th>\n",
              "      <th>Total day charge</th>\n",
              "      <th>Total eve minutes</th>\n",
              "      <th>Total eve calls</th>\n",
              "      <th>Total eve charge</th>\n",
              "      <th>Total night minutes</th>\n",
              "      <th>Total night calls</th>\n",
              "      <th>Total night charge</th>\n",
              "      <th>Total intl minutes</th>\n",
              "      <th>Total intl calls</th>\n",
              "      <th>Total intl charge</th>\n",
              "      <th>Customer service calls</th>\n",
              "      <th>Churn</th>\n",
              "    </tr>\n",
              "  </thead>\n",
              "  <tbody>\n",
              "    <tr>\n",
              "      <th>0</th>\n",
              "      <td>KS</td>\n",
              "      <td>128</td>\n",
              "      <td>415</td>\n",
              "      <td>No</td>\n",
              "      <td>Yes</td>\n",
              "      <td>25</td>\n",
              "      <td>265.10000</td>\n",
              "      <td>110</td>\n",
              "      <td>45.07000</td>\n",
              "      <td>197.40000</td>\n",
              "      <td>99</td>\n",
              "      <td>16.78000</td>\n",
              "      <td>244.70000</td>\n",
              "      <td>91</td>\n",
              "      <td>11.01000</td>\n",
              "      <td>10.00000</td>\n",
              "      <td>3</td>\n",
              "      <td>2.70000</td>\n",
              "      <td>1</td>\n",
              "      <td>False</td>\n",
              "    </tr>\n",
              "    <tr>\n",
              "      <th>1</th>\n",
              "      <td>OH</td>\n",
              "      <td>107</td>\n",
              "      <td>415</td>\n",
              "      <td>No</td>\n",
              "      <td>Yes</td>\n",
              "      <td>26</td>\n",
              "      <td>161.60000</td>\n",
              "      <td>123</td>\n",
              "      <td>27.47000</td>\n",
              "      <td>195.50000</td>\n",
              "      <td>103</td>\n",
              "      <td>16.62000</td>\n",
              "      <td>254.40000</td>\n",
              "      <td>103</td>\n",
              "      <td>11.45000</td>\n",
              "      <td>13.70000</td>\n",
              "      <td>3</td>\n",
              "      <td>3.70000</td>\n",
              "      <td>1</td>\n",
              "      <td>False</td>\n",
              "    </tr>\n",
              "    <tr>\n",
              "      <th>2</th>\n",
              "      <td>NJ</td>\n",
              "      <td>137</td>\n",
              "      <td>415</td>\n",
              "      <td>No</td>\n",
              "      <td>No</td>\n",
              "      <td>0</td>\n",
              "      <td>243.40000</td>\n",
              "      <td>114</td>\n",
              "      <td>41.38000</td>\n",
              "      <td>121.20000</td>\n",
              "      <td>110</td>\n",
              "      <td>10.30000</td>\n",
              "      <td>162.60000</td>\n",
              "      <td>104</td>\n",
              "      <td>7.32000</td>\n",
              "      <td>12.20000</td>\n",
              "      <td>5</td>\n",
              "      <td>3.29000</td>\n",
              "      <td>0</td>\n",
              "      <td>False</td>\n",
              "    </tr>\n",
              "    <tr>\n",
              "      <th>3</th>\n",
              "      <td>OH</td>\n",
              "      <td>84</td>\n",
              "      <td>408</td>\n",
              "      <td>Yes</td>\n",
              "      <td>No</td>\n",
              "      <td>0</td>\n",
              "      <td>299.40000</td>\n",
              "      <td>71</td>\n",
              "      <td>50.90000</td>\n",
              "      <td>61.90000</td>\n",
              "      <td>88</td>\n",
              "      <td>5.26000</td>\n",
              "      <td>196.90000</td>\n",
              "      <td>89</td>\n",
              "      <td>8.86000</td>\n",
              "      <td>6.60000</td>\n",
              "      <td>7</td>\n",
              "      <td>1.78000</td>\n",
              "      <td>2</td>\n",
              "      <td>False</td>\n",
              "    </tr>\n",
              "    <tr>\n",
              "      <th>4</th>\n",
              "      <td>OK</td>\n",
              "      <td>75</td>\n",
              "      <td>415</td>\n",
              "      <td>Yes</td>\n",
              "      <td>No</td>\n",
              "      <td>0</td>\n",
              "      <td>166.70000</td>\n",
              "      <td>113</td>\n",
              "      <td>28.34000</td>\n",
              "      <td>148.30000</td>\n",
              "      <td>122</td>\n",
              "      <td>12.61000</td>\n",
              "      <td>186.90000</td>\n",
              "      <td>121</td>\n",
              "      <td>8.41000</td>\n",
              "      <td>10.10000</td>\n",
              "      <td>3</td>\n",
              "      <td>2.73000</td>\n",
              "      <td>3</td>\n",
              "      <td>False</td>\n",
              "    </tr>\n",
              "  </tbody>\n",
              "</table>\n",
              "</div>"
            ],
            "text/plain": [
              "  State  Account length  ...  Customer service calls  Churn\n",
              "0    KS             128  ...                       1  False\n",
              "1    OH             107  ...                       1  False\n",
              "2    NJ             137  ...                       0  False\n",
              "3    OH              84  ...                       2  False\n",
              "4    OK              75  ...                       3  False\n",
              "\n",
              "[5 rows x 20 columns]"
            ]
          },
          "metadata": {},
          "execution_count": 8
        }
      ]
    },
    {
      "cell_type": "code",
      "metadata": {
        "colab": {
          "base_uri": "https://localhost:8080/",
          "height": 238
        },
        "id": "4GLxAmoVGV1q",
        "outputId": "e314d076-99e7-4c38-c658-0c9c771c0a2f"
      },
      "source": [
        "# checking the tail\n",
        "churn_data.tail()"
      ],
      "execution_count": 9,
      "outputs": [
        {
          "output_type": "execute_result",
          "data": {
            "text/html": [
              "<div>\n",
              "<style scoped>\n",
              "    .dataframe tbody tr th:only-of-type {\n",
              "        vertical-align: middle;\n",
              "    }\n",
              "\n",
              "    .dataframe tbody tr th {\n",
              "        vertical-align: top;\n",
              "    }\n",
              "\n",
              "    .dataframe thead th {\n",
              "        text-align: right;\n",
              "    }\n",
              "</style>\n",
              "<table border=\"1\" class=\"dataframe\">\n",
              "  <thead>\n",
              "    <tr style=\"text-align: right;\">\n",
              "      <th></th>\n",
              "      <th>State</th>\n",
              "      <th>Account length</th>\n",
              "      <th>Area code</th>\n",
              "      <th>International plan</th>\n",
              "      <th>Voice mail plan</th>\n",
              "      <th>Number vmail messages</th>\n",
              "      <th>Total day minutes</th>\n",
              "      <th>Total day calls</th>\n",
              "      <th>Total day charge</th>\n",
              "      <th>Total eve minutes</th>\n",
              "      <th>Total eve calls</th>\n",
              "      <th>Total eve charge</th>\n",
              "      <th>Total night minutes</th>\n",
              "      <th>Total night calls</th>\n",
              "      <th>Total night charge</th>\n",
              "      <th>Total intl minutes</th>\n",
              "      <th>Total intl calls</th>\n",
              "      <th>Total intl charge</th>\n",
              "      <th>Customer service calls</th>\n",
              "      <th>Churn</th>\n",
              "    </tr>\n",
              "  </thead>\n",
              "  <tbody>\n",
              "    <tr>\n",
              "      <th>3328</th>\n",
              "      <td>AZ</td>\n",
              "      <td>192</td>\n",
              "      <td>415</td>\n",
              "      <td>No</td>\n",
              "      <td>Yes</td>\n",
              "      <td>36</td>\n",
              "      <td>156.20000</td>\n",
              "      <td>77</td>\n",
              "      <td>26.55000</td>\n",
              "      <td>215.50000</td>\n",
              "      <td>126</td>\n",
              "      <td>18.32000</td>\n",
              "      <td>279.10000</td>\n",
              "      <td>83</td>\n",
              "      <td>12.56000</td>\n",
              "      <td>9.90000</td>\n",
              "      <td>6</td>\n",
              "      <td>2.67000</td>\n",
              "      <td>2</td>\n",
              "      <td>False</td>\n",
              "    </tr>\n",
              "    <tr>\n",
              "      <th>3329</th>\n",
              "      <td>WV</td>\n",
              "      <td>68</td>\n",
              "      <td>415</td>\n",
              "      <td>No</td>\n",
              "      <td>No</td>\n",
              "      <td>0</td>\n",
              "      <td>231.10000</td>\n",
              "      <td>57</td>\n",
              "      <td>39.29000</td>\n",
              "      <td>153.40000</td>\n",
              "      <td>55</td>\n",
              "      <td>13.04000</td>\n",
              "      <td>191.30000</td>\n",
              "      <td>123</td>\n",
              "      <td>8.61000</td>\n",
              "      <td>9.60000</td>\n",
              "      <td>4</td>\n",
              "      <td>2.59000</td>\n",
              "      <td>3</td>\n",
              "      <td>False</td>\n",
              "    </tr>\n",
              "    <tr>\n",
              "      <th>3330</th>\n",
              "      <td>RI</td>\n",
              "      <td>28</td>\n",
              "      <td>510</td>\n",
              "      <td>No</td>\n",
              "      <td>No</td>\n",
              "      <td>0</td>\n",
              "      <td>180.80000</td>\n",
              "      <td>109</td>\n",
              "      <td>30.74000</td>\n",
              "      <td>288.80000</td>\n",
              "      <td>58</td>\n",
              "      <td>24.55000</td>\n",
              "      <td>191.90000</td>\n",
              "      <td>91</td>\n",
              "      <td>8.64000</td>\n",
              "      <td>14.10000</td>\n",
              "      <td>6</td>\n",
              "      <td>3.81000</td>\n",
              "      <td>2</td>\n",
              "      <td>False</td>\n",
              "    </tr>\n",
              "    <tr>\n",
              "      <th>3331</th>\n",
              "      <td>CT</td>\n",
              "      <td>184</td>\n",
              "      <td>510</td>\n",
              "      <td>Yes</td>\n",
              "      <td>No</td>\n",
              "      <td>0</td>\n",
              "      <td>213.80000</td>\n",
              "      <td>105</td>\n",
              "      <td>36.35000</td>\n",
              "      <td>159.60000</td>\n",
              "      <td>84</td>\n",
              "      <td>13.57000</td>\n",
              "      <td>139.20000</td>\n",
              "      <td>137</td>\n",
              "      <td>6.26000</td>\n",
              "      <td>5.00000</td>\n",
              "      <td>10</td>\n",
              "      <td>1.35000</td>\n",
              "      <td>2</td>\n",
              "      <td>False</td>\n",
              "    </tr>\n",
              "    <tr>\n",
              "      <th>3332</th>\n",
              "      <td>TN</td>\n",
              "      <td>74</td>\n",
              "      <td>415</td>\n",
              "      <td>No</td>\n",
              "      <td>Yes</td>\n",
              "      <td>25</td>\n",
              "      <td>234.40000</td>\n",
              "      <td>113</td>\n",
              "      <td>39.85000</td>\n",
              "      <td>265.90000</td>\n",
              "      <td>82</td>\n",
              "      <td>22.60000</td>\n",
              "      <td>241.40000</td>\n",
              "      <td>77</td>\n",
              "      <td>10.86000</td>\n",
              "      <td>13.70000</td>\n",
              "      <td>4</td>\n",
              "      <td>3.70000</td>\n",
              "      <td>0</td>\n",
              "      <td>False</td>\n",
              "    </tr>\n",
              "  </tbody>\n",
              "</table>\n",
              "</div>"
            ],
            "text/plain": [
              "     State  Account length  ...  Customer service calls  Churn\n",
              "3328    AZ             192  ...                       2  False\n",
              "3329    WV              68  ...                       3  False\n",
              "3330    RI              28  ...                       2  False\n",
              "3331    CT             184  ...                       2  False\n",
              "3332    TN              74  ...                       0  False\n",
              "\n",
              "[5 rows x 20 columns]"
            ]
          },
          "metadata": {},
          "execution_count": 9
        }
      ]
    },
    {
      "cell_type": "code",
      "metadata": {
        "colab": {
          "base_uri": "https://localhost:8080/",
          "height": 314
        },
        "id": "Wy01Q4X_HMg9",
        "outputId": "01bec415-555e-4cb1-999f-1ecd867072c3"
      },
      "source": [
        "# Getting Overview of the Dataset\n",
        "churn_data.describe()"
      ],
      "execution_count": 10,
      "outputs": [
        {
          "output_type": "execute_result",
          "data": {
            "text/html": [
              "<div>\n",
              "<style scoped>\n",
              "    .dataframe tbody tr th:only-of-type {\n",
              "        vertical-align: middle;\n",
              "    }\n",
              "\n",
              "    .dataframe tbody tr th {\n",
              "        vertical-align: top;\n",
              "    }\n",
              "\n",
              "    .dataframe thead th {\n",
              "        text-align: right;\n",
              "    }\n",
              "</style>\n",
              "<table border=\"1\" class=\"dataframe\">\n",
              "  <thead>\n",
              "    <tr style=\"text-align: right;\">\n",
              "      <th></th>\n",
              "      <th>Account length</th>\n",
              "      <th>Area code</th>\n",
              "      <th>Number vmail messages</th>\n",
              "      <th>Total day minutes</th>\n",
              "      <th>Total day calls</th>\n",
              "      <th>Total day charge</th>\n",
              "      <th>Total eve minutes</th>\n",
              "      <th>Total eve calls</th>\n",
              "      <th>Total eve charge</th>\n",
              "      <th>Total night minutes</th>\n",
              "      <th>Total night calls</th>\n",
              "      <th>Total night charge</th>\n",
              "      <th>Total intl minutes</th>\n",
              "      <th>Total intl calls</th>\n",
              "      <th>Total intl charge</th>\n",
              "      <th>Customer service calls</th>\n",
              "    </tr>\n",
              "  </thead>\n",
              "  <tbody>\n",
              "    <tr>\n",
              "      <th>count</th>\n",
              "      <td>3333.00000</td>\n",
              "      <td>3333.00000</td>\n",
              "      <td>3333.00000</td>\n",
              "      <td>3333.00000</td>\n",
              "      <td>3333.00000</td>\n",
              "      <td>3333.00000</td>\n",
              "      <td>3333.00000</td>\n",
              "      <td>3333.00000</td>\n",
              "      <td>3333.00000</td>\n",
              "      <td>3333.00000</td>\n",
              "      <td>3333.00000</td>\n",
              "      <td>3333.00000</td>\n",
              "      <td>3333.00000</td>\n",
              "      <td>3333.00000</td>\n",
              "      <td>3333.00000</td>\n",
              "      <td>3333.00000</td>\n",
              "    </tr>\n",
              "    <tr>\n",
              "      <th>mean</th>\n",
              "      <td>101.06481</td>\n",
              "      <td>437.18242</td>\n",
              "      <td>8.09901</td>\n",
              "      <td>179.77510</td>\n",
              "      <td>100.43564</td>\n",
              "      <td>30.56231</td>\n",
              "      <td>200.98035</td>\n",
              "      <td>100.11431</td>\n",
              "      <td>17.08354</td>\n",
              "      <td>200.87204</td>\n",
              "      <td>100.10771</td>\n",
              "      <td>9.03932</td>\n",
              "      <td>10.23729</td>\n",
              "      <td>4.47945</td>\n",
              "      <td>2.76458</td>\n",
              "      <td>1.56286</td>\n",
              "    </tr>\n",
              "    <tr>\n",
              "      <th>std</th>\n",
              "      <td>39.82211</td>\n",
              "      <td>42.37129</td>\n",
              "      <td>13.68837</td>\n",
              "      <td>54.46739</td>\n",
              "      <td>20.06908</td>\n",
              "      <td>9.25943</td>\n",
              "      <td>50.71384</td>\n",
              "      <td>19.92263</td>\n",
              "      <td>4.31067</td>\n",
              "      <td>50.57385</td>\n",
              "      <td>19.56861</td>\n",
              "      <td>2.27587</td>\n",
              "      <td>2.79184</td>\n",
              "      <td>2.46121</td>\n",
              "      <td>0.75377</td>\n",
              "      <td>1.31549</td>\n",
              "    </tr>\n",
              "    <tr>\n",
              "      <th>min</th>\n",
              "      <td>1.00000</td>\n",
              "      <td>408.00000</td>\n",
              "      <td>0.00000</td>\n",
              "      <td>0.00000</td>\n",
              "      <td>0.00000</td>\n",
              "      <td>0.00000</td>\n",
              "      <td>0.00000</td>\n",
              "      <td>0.00000</td>\n",
              "      <td>0.00000</td>\n",
              "      <td>23.20000</td>\n",
              "      <td>33.00000</td>\n",
              "      <td>1.04000</td>\n",
              "      <td>0.00000</td>\n",
              "      <td>0.00000</td>\n",
              "      <td>0.00000</td>\n",
              "      <td>0.00000</td>\n",
              "    </tr>\n",
              "    <tr>\n",
              "      <th>25%</th>\n",
              "      <td>74.00000</td>\n",
              "      <td>408.00000</td>\n",
              "      <td>0.00000</td>\n",
              "      <td>143.70000</td>\n",
              "      <td>87.00000</td>\n",
              "      <td>24.43000</td>\n",
              "      <td>166.60000</td>\n",
              "      <td>87.00000</td>\n",
              "      <td>14.16000</td>\n",
              "      <td>167.00000</td>\n",
              "      <td>87.00000</td>\n",
              "      <td>7.52000</td>\n",
              "      <td>8.50000</td>\n",
              "      <td>3.00000</td>\n",
              "      <td>2.30000</td>\n",
              "      <td>1.00000</td>\n",
              "    </tr>\n",
              "    <tr>\n",
              "      <th>50%</th>\n",
              "      <td>101.00000</td>\n",
              "      <td>415.00000</td>\n",
              "      <td>0.00000</td>\n",
              "      <td>179.40000</td>\n",
              "      <td>101.00000</td>\n",
              "      <td>30.50000</td>\n",
              "      <td>201.40000</td>\n",
              "      <td>100.00000</td>\n",
              "      <td>17.12000</td>\n",
              "      <td>201.20000</td>\n",
              "      <td>100.00000</td>\n",
              "      <td>9.05000</td>\n",
              "      <td>10.30000</td>\n",
              "      <td>4.00000</td>\n",
              "      <td>2.78000</td>\n",
              "      <td>1.00000</td>\n",
              "    </tr>\n",
              "    <tr>\n",
              "      <th>75%</th>\n",
              "      <td>127.00000</td>\n",
              "      <td>510.00000</td>\n",
              "      <td>20.00000</td>\n",
              "      <td>216.40000</td>\n",
              "      <td>114.00000</td>\n",
              "      <td>36.79000</td>\n",
              "      <td>235.30000</td>\n",
              "      <td>114.00000</td>\n",
              "      <td>20.00000</td>\n",
              "      <td>235.30000</td>\n",
              "      <td>113.00000</td>\n",
              "      <td>10.59000</td>\n",
              "      <td>12.10000</td>\n",
              "      <td>6.00000</td>\n",
              "      <td>3.27000</td>\n",
              "      <td>2.00000</td>\n",
              "    </tr>\n",
              "    <tr>\n",
              "      <th>max</th>\n",
              "      <td>243.00000</td>\n",
              "      <td>510.00000</td>\n",
              "      <td>51.00000</td>\n",
              "      <td>350.80000</td>\n",
              "      <td>165.00000</td>\n",
              "      <td>59.64000</td>\n",
              "      <td>363.70000</td>\n",
              "      <td>170.00000</td>\n",
              "      <td>30.91000</td>\n",
              "      <td>395.00000</td>\n",
              "      <td>175.00000</td>\n",
              "      <td>17.77000</td>\n",
              "      <td>20.00000</td>\n",
              "      <td>20.00000</td>\n",
              "      <td>5.40000</td>\n",
              "      <td>9.00000</td>\n",
              "    </tr>\n",
              "  </tbody>\n",
              "</table>\n",
              "</div>"
            ],
            "text/plain": [
              "       Account length  Area code  ...  Total intl charge  Customer service calls\n",
              "count      3333.00000 3333.00000  ...         3333.00000              3333.00000\n",
              "mean        101.06481  437.18242  ...            2.76458                 1.56286\n",
              "std          39.82211   42.37129  ...            0.75377                 1.31549\n",
              "min           1.00000  408.00000  ...            0.00000                 0.00000\n",
              "25%          74.00000  408.00000  ...            2.30000                 1.00000\n",
              "50%         101.00000  415.00000  ...            2.78000                 1.00000\n",
              "75%         127.00000  510.00000  ...            3.27000                 2.00000\n",
              "max         243.00000  510.00000  ...            5.40000                 9.00000\n",
              "\n",
              "[8 rows x 16 columns]"
            ]
          },
          "metadata": {},
          "execution_count": 10
        }
      ]
    },
    {
      "cell_type": "markdown",
      "metadata": {
        "id": "l3eA-rsZAcRH"
      },
      "source": [
        "<h1><strong> Dataset in a Glance</strong><h1>\n",
        "\n",
        "> The describe function without any parameters\n",
        "returns the description of only numerical columns. For analysing the Categorical and Boolean data the describe function has to be called with specific parameters, which has been done in the next cell\n",
        "\n",
        "---\n",
        "\n",
        "\n",
        "<ol>\n",
        "  <li>Average account lenghth is approximately 101 days.</li>\n",
        "  <li>Although the average number of calls in all three timeblocks i.e. Day, Evening, Night is 100 but the average duration of calls varies significantly with time of the day.</li>\n",
        "  <li>Average call duration during day is 179.77 minutes, during evening it is 200 minutes on an average and 200 minutes on an average during the night.</li>\n",
        "  <li>The mean value of number of voicemails per customer is 8 on an average, however, the standard deviation is very high suggesting that the number of customers availing voicemail serveces are very few and sporadic.</li>\n",
        "  <li> Average international minutes is around 10 minutes per customer and average international call per customer is 4 suggesting that very few customers call internationally.</li>\n",
        "</ol>\n"
      ]
    },
    {
      "cell_type": "code",
      "metadata": {
        "id": "8jppAd1EDYJa",
        "colab": {
          "base_uri": "https://localhost:8080/",
          "height": 173
        },
        "outputId": "d55eb7b3-678b-450e-ad9c-16a78535f846"
      },
      "source": [
        "# Getting overview of the categorical and boolean data columns\n",
        "\n",
        "churn_data.describe(include=[\"object\", \"bool\"])"
      ],
      "execution_count": 11,
      "outputs": [
        {
          "output_type": "execute_result",
          "data": {
            "text/html": [
              "<div>\n",
              "<style scoped>\n",
              "    .dataframe tbody tr th:only-of-type {\n",
              "        vertical-align: middle;\n",
              "    }\n",
              "\n",
              "    .dataframe tbody tr th {\n",
              "        vertical-align: top;\n",
              "    }\n",
              "\n",
              "    .dataframe thead th {\n",
              "        text-align: right;\n",
              "    }\n",
              "</style>\n",
              "<table border=\"1\" class=\"dataframe\">\n",
              "  <thead>\n",
              "    <tr style=\"text-align: right;\">\n",
              "      <th></th>\n",
              "      <th>State</th>\n",
              "      <th>International plan</th>\n",
              "      <th>Voice mail plan</th>\n",
              "      <th>Churn</th>\n",
              "    </tr>\n",
              "  </thead>\n",
              "  <tbody>\n",
              "    <tr>\n",
              "      <th>count</th>\n",
              "      <td>3333</td>\n",
              "      <td>3333</td>\n",
              "      <td>3333</td>\n",
              "      <td>3333</td>\n",
              "    </tr>\n",
              "    <tr>\n",
              "      <th>unique</th>\n",
              "      <td>51</td>\n",
              "      <td>2</td>\n",
              "      <td>2</td>\n",
              "      <td>2</td>\n",
              "    </tr>\n",
              "    <tr>\n",
              "      <th>top</th>\n",
              "      <td>WV</td>\n",
              "      <td>No</td>\n",
              "      <td>No</td>\n",
              "      <td>False</td>\n",
              "    </tr>\n",
              "    <tr>\n",
              "      <th>freq</th>\n",
              "      <td>106</td>\n",
              "      <td>3010</td>\n",
              "      <td>2411</td>\n",
              "      <td>2850</td>\n",
              "    </tr>\n",
              "  </tbody>\n",
              "</table>\n",
              "</div>"
            ],
            "text/plain": [
              "       State International plan Voice mail plan  Churn\n",
              "count   3333               3333            3333   3333\n",
              "unique    51                  2               2      2\n",
              "top       WV                 No              No  False\n",
              "freq     106               3010            2411   2850"
            ]
          },
          "metadata": {},
          "execution_count": 11
        }
      ]
    },
    {
      "cell_type": "markdown",
      "metadata": {
        "id": "fVqUKx2tOWgn"
      },
      "source": [
        "<h1><strong>Categorical Data at a glance</strong></h1>\n",
        "<ol>\n",
        "  <li>There are 51 unique states in the datatset with State Code WV having the most number of subscribers i.e. 106 subscribers.</li>\n",
        "  <li>Out of the 3333 subscribers 3010 subscribers do not have a International Plan.</li>\n",
        "  <li>Out of 3333 subscribers 2411 dont have a voice mail plan.</li>\n",
        "  <li> Out of 3333 subscribers 483 subscribers have stoppped using the services of the company.</li>\n",
        "  <li> 14.50 percent of subscribers have stooped using the services of the comapny thus churn rate of the comapny is 14.50 % which is very high.</li>\n",
        "</ol>\n"
      ]
    },
    {
      "cell_type": "code",
      "metadata": {
        "colab": {
          "base_uri": "https://localhost:8080/",
          "height": 453
        },
        "id": "gWKkwO-83zBT",
        "outputId": "3009aca1-7aca-4af1-d43e-bfd606384293"
      },
      "source": [
        "# Making extra columns for finding out the per minute tariff for Day, Evening and Night charges.\n",
        "\n",
        "churn_data['Day tariff'] = round(churn_data['Total day charge']/churn_data['Total day minutes'],2)\n",
        "churn_data['Eve tariff'] = round(churn_data['Total eve charge']/churn_data['Total eve minutes'],2)\n",
        "churn_data['Night tariff'] = round(churn_data['Total night charge']/churn_data['Total night minutes'],2)\n",
        "churn_data"
      ],
      "execution_count": 12,
      "outputs": [
        {
          "output_type": "execute_result",
          "data": {
            "text/html": [
              "<div>\n",
              "<style scoped>\n",
              "    .dataframe tbody tr th:only-of-type {\n",
              "        vertical-align: middle;\n",
              "    }\n",
              "\n",
              "    .dataframe tbody tr th {\n",
              "        vertical-align: top;\n",
              "    }\n",
              "\n",
              "    .dataframe thead th {\n",
              "        text-align: right;\n",
              "    }\n",
              "</style>\n",
              "<table border=\"1\" class=\"dataframe\">\n",
              "  <thead>\n",
              "    <tr style=\"text-align: right;\">\n",
              "      <th></th>\n",
              "      <th>State</th>\n",
              "      <th>Account length</th>\n",
              "      <th>Area code</th>\n",
              "      <th>International plan</th>\n",
              "      <th>Voice mail plan</th>\n",
              "      <th>Number vmail messages</th>\n",
              "      <th>Total day minutes</th>\n",
              "      <th>Total day calls</th>\n",
              "      <th>Total day charge</th>\n",
              "      <th>Total eve minutes</th>\n",
              "      <th>Total eve calls</th>\n",
              "      <th>Total eve charge</th>\n",
              "      <th>Total night minutes</th>\n",
              "      <th>Total night calls</th>\n",
              "      <th>Total night charge</th>\n",
              "      <th>Total intl minutes</th>\n",
              "      <th>Total intl calls</th>\n",
              "      <th>Total intl charge</th>\n",
              "      <th>Customer service calls</th>\n",
              "      <th>Churn</th>\n",
              "      <th>Day tariff</th>\n",
              "      <th>Eve tariff</th>\n",
              "      <th>Night tariff</th>\n",
              "    </tr>\n",
              "  </thead>\n",
              "  <tbody>\n",
              "    <tr>\n",
              "      <th>0</th>\n",
              "      <td>KS</td>\n",
              "      <td>128</td>\n",
              "      <td>415</td>\n",
              "      <td>No</td>\n",
              "      <td>Yes</td>\n",
              "      <td>25</td>\n",
              "      <td>265.10000</td>\n",
              "      <td>110</td>\n",
              "      <td>45.07000</td>\n",
              "      <td>197.40000</td>\n",
              "      <td>99</td>\n",
              "      <td>16.78000</td>\n",
              "      <td>244.70000</td>\n",
              "      <td>91</td>\n",
              "      <td>11.01000</td>\n",
              "      <td>10.00000</td>\n",
              "      <td>3</td>\n",
              "      <td>2.70000</td>\n",
              "      <td>1</td>\n",
              "      <td>False</td>\n",
              "      <td>0.17000</td>\n",
              "      <td>0.09000</td>\n",
              "      <td>0.04000</td>\n",
              "    </tr>\n",
              "    <tr>\n",
              "      <th>1</th>\n",
              "      <td>OH</td>\n",
              "      <td>107</td>\n",
              "      <td>415</td>\n",
              "      <td>No</td>\n",
              "      <td>Yes</td>\n",
              "      <td>26</td>\n",
              "      <td>161.60000</td>\n",
              "      <td>123</td>\n",
              "      <td>27.47000</td>\n",
              "      <td>195.50000</td>\n",
              "      <td>103</td>\n",
              "      <td>16.62000</td>\n",
              "      <td>254.40000</td>\n",
              "      <td>103</td>\n",
              "      <td>11.45000</td>\n",
              "      <td>13.70000</td>\n",
              "      <td>3</td>\n",
              "      <td>3.70000</td>\n",
              "      <td>1</td>\n",
              "      <td>False</td>\n",
              "      <td>0.17000</td>\n",
              "      <td>0.09000</td>\n",
              "      <td>0.05000</td>\n",
              "    </tr>\n",
              "    <tr>\n",
              "      <th>2</th>\n",
              "      <td>NJ</td>\n",
              "      <td>137</td>\n",
              "      <td>415</td>\n",
              "      <td>No</td>\n",
              "      <td>No</td>\n",
              "      <td>0</td>\n",
              "      <td>243.40000</td>\n",
              "      <td>114</td>\n",
              "      <td>41.38000</td>\n",
              "      <td>121.20000</td>\n",
              "      <td>110</td>\n",
              "      <td>10.30000</td>\n",
              "      <td>162.60000</td>\n",
              "      <td>104</td>\n",
              "      <td>7.32000</td>\n",
              "      <td>12.20000</td>\n",
              "      <td>5</td>\n",
              "      <td>3.29000</td>\n",
              "      <td>0</td>\n",
              "      <td>False</td>\n",
              "      <td>0.17000</td>\n",
              "      <td>0.08000</td>\n",
              "      <td>0.05000</td>\n",
              "    </tr>\n",
              "    <tr>\n",
              "      <th>3</th>\n",
              "      <td>OH</td>\n",
              "      <td>84</td>\n",
              "      <td>408</td>\n",
              "      <td>Yes</td>\n",
              "      <td>No</td>\n",
              "      <td>0</td>\n",
              "      <td>299.40000</td>\n",
              "      <td>71</td>\n",
              "      <td>50.90000</td>\n",
              "      <td>61.90000</td>\n",
              "      <td>88</td>\n",
              "      <td>5.26000</td>\n",
              "      <td>196.90000</td>\n",
              "      <td>89</td>\n",
              "      <td>8.86000</td>\n",
              "      <td>6.60000</td>\n",
              "      <td>7</td>\n",
              "      <td>1.78000</td>\n",
              "      <td>2</td>\n",
              "      <td>False</td>\n",
              "      <td>0.17000</td>\n",
              "      <td>0.08000</td>\n",
              "      <td>0.04000</td>\n",
              "    </tr>\n",
              "    <tr>\n",
              "      <th>4</th>\n",
              "      <td>OK</td>\n",
              "      <td>75</td>\n",
              "      <td>415</td>\n",
              "      <td>Yes</td>\n",
              "      <td>No</td>\n",
              "      <td>0</td>\n",
              "      <td>166.70000</td>\n",
              "      <td>113</td>\n",
              "      <td>28.34000</td>\n",
              "      <td>148.30000</td>\n",
              "      <td>122</td>\n",
              "      <td>12.61000</td>\n",
              "      <td>186.90000</td>\n",
              "      <td>121</td>\n",
              "      <td>8.41000</td>\n",
              "      <td>10.10000</td>\n",
              "      <td>3</td>\n",
              "      <td>2.73000</td>\n",
              "      <td>3</td>\n",
              "      <td>False</td>\n",
              "      <td>0.17000</td>\n",
              "      <td>0.09000</td>\n",
              "      <td>0.04000</td>\n",
              "    </tr>\n",
              "    <tr>\n",
              "      <th>...</th>\n",
              "      <td>...</td>\n",
              "      <td>...</td>\n",
              "      <td>...</td>\n",
              "      <td>...</td>\n",
              "      <td>...</td>\n",
              "      <td>...</td>\n",
              "      <td>...</td>\n",
              "      <td>...</td>\n",
              "      <td>...</td>\n",
              "      <td>...</td>\n",
              "      <td>...</td>\n",
              "      <td>...</td>\n",
              "      <td>...</td>\n",
              "      <td>...</td>\n",
              "      <td>...</td>\n",
              "      <td>...</td>\n",
              "      <td>...</td>\n",
              "      <td>...</td>\n",
              "      <td>...</td>\n",
              "      <td>...</td>\n",
              "      <td>...</td>\n",
              "      <td>...</td>\n",
              "      <td>...</td>\n",
              "    </tr>\n",
              "    <tr>\n",
              "      <th>3328</th>\n",
              "      <td>AZ</td>\n",
              "      <td>192</td>\n",
              "      <td>415</td>\n",
              "      <td>No</td>\n",
              "      <td>Yes</td>\n",
              "      <td>36</td>\n",
              "      <td>156.20000</td>\n",
              "      <td>77</td>\n",
              "      <td>26.55000</td>\n",
              "      <td>215.50000</td>\n",
              "      <td>126</td>\n",
              "      <td>18.32000</td>\n",
              "      <td>279.10000</td>\n",
              "      <td>83</td>\n",
              "      <td>12.56000</td>\n",
              "      <td>9.90000</td>\n",
              "      <td>6</td>\n",
              "      <td>2.67000</td>\n",
              "      <td>2</td>\n",
              "      <td>False</td>\n",
              "      <td>0.17000</td>\n",
              "      <td>0.09000</td>\n",
              "      <td>0.05000</td>\n",
              "    </tr>\n",
              "    <tr>\n",
              "      <th>3329</th>\n",
              "      <td>WV</td>\n",
              "      <td>68</td>\n",
              "      <td>415</td>\n",
              "      <td>No</td>\n",
              "      <td>No</td>\n",
              "      <td>0</td>\n",
              "      <td>231.10000</td>\n",
              "      <td>57</td>\n",
              "      <td>39.29000</td>\n",
              "      <td>153.40000</td>\n",
              "      <td>55</td>\n",
              "      <td>13.04000</td>\n",
              "      <td>191.30000</td>\n",
              "      <td>123</td>\n",
              "      <td>8.61000</td>\n",
              "      <td>9.60000</td>\n",
              "      <td>4</td>\n",
              "      <td>2.59000</td>\n",
              "      <td>3</td>\n",
              "      <td>False</td>\n",
              "      <td>0.17000</td>\n",
              "      <td>0.09000</td>\n",
              "      <td>0.05000</td>\n",
              "    </tr>\n",
              "    <tr>\n",
              "      <th>3330</th>\n",
              "      <td>RI</td>\n",
              "      <td>28</td>\n",
              "      <td>510</td>\n",
              "      <td>No</td>\n",
              "      <td>No</td>\n",
              "      <td>0</td>\n",
              "      <td>180.80000</td>\n",
              "      <td>109</td>\n",
              "      <td>30.74000</td>\n",
              "      <td>288.80000</td>\n",
              "      <td>58</td>\n",
              "      <td>24.55000</td>\n",
              "      <td>191.90000</td>\n",
              "      <td>91</td>\n",
              "      <td>8.64000</td>\n",
              "      <td>14.10000</td>\n",
              "      <td>6</td>\n",
              "      <td>3.81000</td>\n",
              "      <td>2</td>\n",
              "      <td>False</td>\n",
              "      <td>0.17000</td>\n",
              "      <td>0.09000</td>\n",
              "      <td>0.05000</td>\n",
              "    </tr>\n",
              "    <tr>\n",
              "      <th>3331</th>\n",
              "      <td>CT</td>\n",
              "      <td>184</td>\n",
              "      <td>510</td>\n",
              "      <td>Yes</td>\n",
              "      <td>No</td>\n",
              "      <td>0</td>\n",
              "      <td>213.80000</td>\n",
              "      <td>105</td>\n",
              "      <td>36.35000</td>\n",
              "      <td>159.60000</td>\n",
              "      <td>84</td>\n",
              "      <td>13.57000</td>\n",
              "      <td>139.20000</td>\n",
              "      <td>137</td>\n",
              "      <td>6.26000</td>\n",
              "      <td>5.00000</td>\n",
              "      <td>10</td>\n",
              "      <td>1.35000</td>\n",
              "      <td>2</td>\n",
              "      <td>False</td>\n",
              "      <td>0.17000</td>\n",
              "      <td>0.09000</td>\n",
              "      <td>0.04000</td>\n",
              "    </tr>\n",
              "    <tr>\n",
              "      <th>3332</th>\n",
              "      <td>TN</td>\n",
              "      <td>74</td>\n",
              "      <td>415</td>\n",
              "      <td>No</td>\n",
              "      <td>Yes</td>\n",
              "      <td>25</td>\n",
              "      <td>234.40000</td>\n",
              "      <td>113</td>\n",
              "      <td>39.85000</td>\n",
              "      <td>265.90000</td>\n",
              "      <td>82</td>\n",
              "      <td>22.60000</td>\n",
              "      <td>241.40000</td>\n",
              "      <td>77</td>\n",
              "      <td>10.86000</td>\n",
              "      <td>13.70000</td>\n",
              "      <td>4</td>\n",
              "      <td>3.70000</td>\n",
              "      <td>0</td>\n",
              "      <td>False</td>\n",
              "      <td>0.17000</td>\n",
              "      <td>0.08000</td>\n",
              "      <td>0.04000</td>\n",
              "    </tr>\n",
              "  </tbody>\n",
              "</table>\n",
              "<p>3333 rows × 23 columns</p>\n",
              "</div>"
            ],
            "text/plain": [
              "     State  Account length  Area code  ... Day tariff Eve tariff  Night tariff\n",
              "0       KS             128        415  ...    0.17000    0.09000       0.04000\n",
              "1       OH             107        415  ...    0.17000    0.09000       0.05000\n",
              "2       NJ             137        415  ...    0.17000    0.08000       0.05000\n",
              "3       OH              84        408  ...    0.17000    0.08000       0.04000\n",
              "4       OK              75        415  ...    0.17000    0.09000       0.04000\n",
              "...    ...             ...        ...  ...        ...        ...           ...\n",
              "3328    AZ             192        415  ...    0.17000    0.09000       0.05000\n",
              "3329    WV              68        415  ...    0.17000    0.09000       0.05000\n",
              "3330    RI              28        510  ...    0.17000    0.09000       0.05000\n",
              "3331    CT             184        510  ...    0.17000    0.09000       0.04000\n",
              "3332    TN              74        415  ...    0.17000    0.08000       0.04000\n",
              "\n",
              "[3333 rows x 23 columns]"
            ]
          },
          "metadata": {},
          "execution_count": 12
        }
      ]
    },
    {
      "cell_type": "code",
      "metadata": {
        "id": "ZRbdR5Ff8oA_",
        "colab": {
          "base_uri": "https://localhost:8080/",
          "height": 142
        },
        "outputId": "8d847176-f0a6-444a-ad01-6daacf456dd5"
      },
      "source": [
        "# Checking the average number of customer service calls between the people who have opted out of service.\n",
        "churn_service_calls = pd.DataFrame(churn_data.groupby(\"Churn\")[\"Customer service calls\"].mean())\n",
        "churn_service_calls"
      ],
      "execution_count": 13,
      "outputs": [
        {
          "output_type": "execute_result",
          "data": {
            "text/html": [
              "<div>\n",
              "<style scoped>\n",
              "    .dataframe tbody tr th:only-of-type {\n",
              "        vertical-align: middle;\n",
              "    }\n",
              "\n",
              "    .dataframe tbody tr th {\n",
              "        vertical-align: top;\n",
              "    }\n",
              "\n",
              "    .dataframe thead th {\n",
              "        text-align: right;\n",
              "    }\n",
              "</style>\n",
              "<table border=\"1\" class=\"dataframe\">\n",
              "  <thead>\n",
              "    <tr style=\"text-align: right;\">\n",
              "      <th></th>\n",
              "      <th>Customer service calls</th>\n",
              "    </tr>\n",
              "    <tr>\n",
              "      <th>Churn</th>\n",
              "      <th></th>\n",
              "    </tr>\n",
              "  </thead>\n",
              "  <tbody>\n",
              "    <tr>\n",
              "      <th>False</th>\n",
              "      <td>1.44982</td>\n",
              "    </tr>\n",
              "    <tr>\n",
              "      <th>True</th>\n",
              "      <td>2.22981</td>\n",
              "    </tr>\n",
              "  </tbody>\n",
              "</table>\n",
              "</div>"
            ],
            "text/plain": [
              "       Customer service calls\n",
              "Churn                        \n",
              "False                 1.44982\n",
              "True                  2.22981"
            ]
          },
          "metadata": {},
          "execution_count": 13
        }
      ]
    },
    {
      "cell_type": "code",
      "metadata": {
        "colab": {
          "base_uri": "https://localhost:8080/"
        },
        "id": "zw4T2CLvh4rc",
        "outputId": "6edb2d1d-3df1-4fef-d8a0-7068b34f30b2"
      },
      "source": [
        "# Ratio of Customer service calls between subscribers who continue to use the service and who have stopped using the operators services.\n",
        "churn_false = float(churn_service_calls.loc[False])\n",
        "churn_true = float(churn_service_calls.loc[True])\n",
        "\n",
        "churn_service_call_ratio = churn_true/churn_false\n",
        "round(churn_service_call_ratio, 2)"
      ],
      "execution_count": 14,
      "outputs": [
        {
          "output_type": "execute_result",
          "data": {
            "text/plain": [
              "1.54"
            ]
          },
          "metadata": {},
          "execution_count": 14
        }
      ]
    },
    {
      "cell_type": "code",
      "metadata": {
        "colab": {
          "base_uri": "https://localhost:8080/",
          "height": 297
        },
        "id": "0f33uSP0kGiz",
        "outputId": "7a7545e3-6212-4973-b1b6-99300612d4be"
      },
      "source": [
        "service_calls_churn = pd.DataFrame(churn_data.loc[churn_data[\"Churn\"] == True, \"Customer service calls\"])\n",
        "service_calls_churn.describe()"
      ],
      "execution_count": 15,
      "outputs": [
        {
          "output_type": "execute_result",
          "data": {
            "text/html": [
              "<div>\n",
              "<style scoped>\n",
              "    .dataframe tbody tr th:only-of-type {\n",
              "        vertical-align: middle;\n",
              "    }\n",
              "\n",
              "    .dataframe tbody tr th {\n",
              "        vertical-align: top;\n",
              "    }\n",
              "\n",
              "    .dataframe thead th {\n",
              "        text-align: right;\n",
              "    }\n",
              "</style>\n",
              "<table border=\"1\" class=\"dataframe\">\n",
              "  <thead>\n",
              "    <tr style=\"text-align: right;\">\n",
              "      <th></th>\n",
              "      <th>Customer service calls</th>\n",
              "    </tr>\n",
              "  </thead>\n",
              "  <tbody>\n",
              "    <tr>\n",
              "      <th>count</th>\n",
              "      <td>483.00000</td>\n",
              "    </tr>\n",
              "    <tr>\n",
              "      <th>mean</th>\n",
              "      <td>2.22981</td>\n",
              "    </tr>\n",
              "    <tr>\n",
              "      <th>std</th>\n",
              "      <td>1.85327</td>\n",
              "    </tr>\n",
              "    <tr>\n",
              "      <th>min</th>\n",
              "      <td>0.00000</td>\n",
              "    </tr>\n",
              "    <tr>\n",
              "      <th>25%</th>\n",
              "      <td>1.00000</td>\n",
              "    </tr>\n",
              "    <tr>\n",
              "      <th>50%</th>\n",
              "      <td>2.00000</td>\n",
              "    </tr>\n",
              "    <tr>\n",
              "      <th>75%</th>\n",
              "      <td>4.00000</td>\n",
              "    </tr>\n",
              "    <tr>\n",
              "      <th>max</th>\n",
              "      <td>9.00000</td>\n",
              "    </tr>\n",
              "  </tbody>\n",
              "</table>\n",
              "</div>"
            ],
            "text/plain": [
              "       Customer service calls\n",
              "count               483.00000\n",
              "mean                  2.22981\n",
              "std                   1.85327\n",
              "min                   0.00000\n",
              "25%                   1.00000\n",
              "50%                   2.00000\n",
              "75%                   4.00000\n",
              "max                   9.00000"
            ]
          },
          "metadata": {},
          "execution_count": 15
        }
      ]
    },
    {
      "cell_type": "code",
      "metadata": {
        "colab": {
          "base_uri": "https://localhost:8080/",
          "height": 297
        },
        "id": "Mp-LTzrTkGIk",
        "outputId": "bdc342cb-6f76-4ce9-b617-88b7f388b9ce"
      },
      "source": [
        "service_calls_nonchurn = pd.DataFrame(churn_data.loc[churn_data[\"Churn\"] == False, \"Customer service calls\"])\n",
        "service_calls_nonchurn.describe()"
      ],
      "execution_count": 16,
      "outputs": [
        {
          "output_type": "execute_result",
          "data": {
            "text/html": [
              "<div>\n",
              "<style scoped>\n",
              "    .dataframe tbody tr th:only-of-type {\n",
              "        vertical-align: middle;\n",
              "    }\n",
              "\n",
              "    .dataframe tbody tr th {\n",
              "        vertical-align: top;\n",
              "    }\n",
              "\n",
              "    .dataframe thead th {\n",
              "        text-align: right;\n",
              "    }\n",
              "</style>\n",
              "<table border=\"1\" class=\"dataframe\">\n",
              "  <thead>\n",
              "    <tr style=\"text-align: right;\">\n",
              "      <th></th>\n",
              "      <th>Customer service calls</th>\n",
              "    </tr>\n",
              "  </thead>\n",
              "  <tbody>\n",
              "    <tr>\n",
              "      <th>count</th>\n",
              "      <td>2850.00000</td>\n",
              "    </tr>\n",
              "    <tr>\n",
              "      <th>mean</th>\n",
              "      <td>1.44982</td>\n",
              "    </tr>\n",
              "    <tr>\n",
              "      <th>std</th>\n",
              "      <td>1.16388</td>\n",
              "    </tr>\n",
              "    <tr>\n",
              "      <th>min</th>\n",
              "      <td>0.00000</td>\n",
              "    </tr>\n",
              "    <tr>\n",
              "      <th>25%</th>\n",
              "      <td>1.00000</td>\n",
              "    </tr>\n",
              "    <tr>\n",
              "      <th>50%</th>\n",
              "      <td>1.00000</td>\n",
              "    </tr>\n",
              "    <tr>\n",
              "      <th>75%</th>\n",
              "      <td>2.00000</td>\n",
              "    </tr>\n",
              "    <tr>\n",
              "      <th>max</th>\n",
              "      <td>8.00000</td>\n",
              "    </tr>\n",
              "  </tbody>\n",
              "</table>\n",
              "</div>"
            ],
            "text/plain": [
              "       Customer service calls\n",
              "count              2850.00000\n",
              "mean                  1.44982\n",
              "std                   1.16388\n",
              "min                   0.00000\n",
              "25%                   1.00000\n",
              "50%                   1.00000\n",
              "75%                   2.00000\n",
              "max                   8.00000"
            ]
          },
          "metadata": {},
          "execution_count": 16
        }
      ]
    },
    {
      "cell_type": "markdown",
      "metadata": {
        "id": "UEnU37bcg5Ax"
      },
      "source": [
        "<h1><strong>Number of Service Calls<strong></h1>\n",
        "<ol>\n",
        "  <li>The subscribers who have stopped using the service of the operator have called 1.54 times more than the subscribers who continue to use the services of the operator.</li>\n",
        "  <li>The high numbers of service calls may be due to poor quality of service or due to lack of attentive and friendly call center executives.</li>\n",
        "  <li>If we look at the 75th Quartile in the service calls for subscribers who have left and who continue to use the services we see that the people who have left called twice as much when compared to the people who are continuing to use the services.</li>\n",
        "</ol>"
      ]
    },
    {
      "cell_type": "code",
      "metadata": {
        "colab": {
          "base_uri": "https://localhost:8080/"
        },
        "id": "wtEw_Wb9UliV",
        "outputId": "befe9329-0f11-481b-9abc-faea533d4efe"
      },
      "source": [
        "# Converting Categorical Columns into numerical columns\n",
        "\n",
        "# Looking for categorical columns\n",
        "categorical_cols = [cols for cols in churn_data.columns if churn_data[cols].dtype == 'O']\n",
        "categorical_cols"
      ],
      "execution_count": 17,
      "outputs": [
        {
          "output_type": "execute_result",
          "data": {
            "text/plain": [
              "['State', 'International plan', 'Voice mail plan']"
            ]
          },
          "metadata": {},
          "execution_count": 17
        }
      ]
    },
    {
      "cell_type": "code",
      "metadata": {
        "colab": {
          "base_uri": "https://localhost:8080/",
          "height": 419
        },
        "id": "TuiiXC47d-Nh",
        "outputId": "831b697a-42b4-4fbf-ca4c-317b4dfc532b"
      },
      "source": [
        "# There are Three Categorical columns in the Dataframe i.e. State, International Plan and Voce mail plan\n",
        "# Checking if these can be converted into numerical features\n",
        "churn_data[[\"State\", \"International plan\", \"Voice mail plan\"]]"
      ],
      "execution_count": 18,
      "outputs": [
        {
          "output_type": "execute_result",
          "data": {
            "text/html": [
              "<div>\n",
              "<style scoped>\n",
              "    .dataframe tbody tr th:only-of-type {\n",
              "        vertical-align: middle;\n",
              "    }\n",
              "\n",
              "    .dataframe tbody tr th {\n",
              "        vertical-align: top;\n",
              "    }\n",
              "\n",
              "    .dataframe thead th {\n",
              "        text-align: right;\n",
              "    }\n",
              "</style>\n",
              "<table border=\"1\" class=\"dataframe\">\n",
              "  <thead>\n",
              "    <tr style=\"text-align: right;\">\n",
              "      <th></th>\n",
              "      <th>State</th>\n",
              "      <th>International plan</th>\n",
              "      <th>Voice mail plan</th>\n",
              "    </tr>\n",
              "  </thead>\n",
              "  <tbody>\n",
              "    <tr>\n",
              "      <th>0</th>\n",
              "      <td>KS</td>\n",
              "      <td>No</td>\n",
              "      <td>Yes</td>\n",
              "    </tr>\n",
              "    <tr>\n",
              "      <th>1</th>\n",
              "      <td>OH</td>\n",
              "      <td>No</td>\n",
              "      <td>Yes</td>\n",
              "    </tr>\n",
              "    <tr>\n",
              "      <th>2</th>\n",
              "      <td>NJ</td>\n",
              "      <td>No</td>\n",
              "      <td>No</td>\n",
              "    </tr>\n",
              "    <tr>\n",
              "      <th>3</th>\n",
              "      <td>OH</td>\n",
              "      <td>Yes</td>\n",
              "      <td>No</td>\n",
              "    </tr>\n",
              "    <tr>\n",
              "      <th>4</th>\n",
              "      <td>OK</td>\n",
              "      <td>Yes</td>\n",
              "      <td>No</td>\n",
              "    </tr>\n",
              "    <tr>\n",
              "      <th>...</th>\n",
              "      <td>...</td>\n",
              "      <td>...</td>\n",
              "      <td>...</td>\n",
              "    </tr>\n",
              "    <tr>\n",
              "      <th>3328</th>\n",
              "      <td>AZ</td>\n",
              "      <td>No</td>\n",
              "      <td>Yes</td>\n",
              "    </tr>\n",
              "    <tr>\n",
              "      <th>3329</th>\n",
              "      <td>WV</td>\n",
              "      <td>No</td>\n",
              "      <td>No</td>\n",
              "    </tr>\n",
              "    <tr>\n",
              "      <th>3330</th>\n",
              "      <td>RI</td>\n",
              "      <td>No</td>\n",
              "      <td>No</td>\n",
              "    </tr>\n",
              "    <tr>\n",
              "      <th>3331</th>\n",
              "      <td>CT</td>\n",
              "      <td>Yes</td>\n",
              "      <td>No</td>\n",
              "    </tr>\n",
              "    <tr>\n",
              "      <th>3332</th>\n",
              "      <td>TN</td>\n",
              "      <td>No</td>\n",
              "      <td>Yes</td>\n",
              "    </tr>\n",
              "  </tbody>\n",
              "</table>\n",
              "<p>3333 rows × 3 columns</p>\n",
              "</div>"
            ],
            "text/plain": [
              "     State International plan Voice mail plan\n",
              "0       KS                 No             Yes\n",
              "1       OH                 No             Yes\n",
              "2       NJ                 No              No\n",
              "3       OH                Yes              No\n",
              "4       OK                Yes              No\n",
              "...    ...                ...             ...\n",
              "3328    AZ                 No             Yes\n",
              "3329    WV                 No              No\n",
              "3330    RI                 No              No\n",
              "3331    CT                Yes              No\n",
              "3332    TN                 No             Yes\n",
              "\n",
              "[3333 rows x 3 columns]"
            ]
          },
          "metadata": {},
          "execution_count": 18
        }
      ]
    },
    {
      "cell_type": "code",
      "metadata": {
        "id": "IZrF8L5hfBd2"
      },
      "source": [
        "#International Plan and Voice mail plan are simple yes and no and thus they can be encoded as 1 or 0 for yes and no respectively.\n",
        "# Canging yes value to 1 and No value to 0 in both the International Plan and Voice mail plan.\n",
        "churn_data[\"International plan\"] = np.where(churn_data[\"International plan\"] == \"Yes\",1,0)\n",
        "churn_data[\"Voice mail plan\"] = np.where(churn_data[\"Voice mail plan\"] == \"Yes\",1,0)"
      ],
      "execution_count": 19,
      "outputs": []
    },
    {
      "cell_type": "code",
      "metadata": {
        "id": "RpIWMRXVf0AZ",
        "colab": {
          "base_uri": "https://localhost:8080/",
          "height": 665
        },
        "outputId": "94f008b7-3549-4518-e26e-db8192e7ec86"
      },
      "source": [
        "#Using Bar plot to find out number of Customers with International plan active vs number of customers who are not using an international plan\n",
        "v_counts_international = churn_data[\"International plan\"].value_counts()\n",
        "sns.barplot(v_counts_international.index, v_counts_international.values)"
      ],
      "execution_count": 20,
      "outputs": [
        {
          "output_type": "stream",
          "name": "stderr",
          "text": [
            "/usr/local/lib/python3.7/dist-packages/seaborn/_decorators.py:43: FutureWarning: Pass the following variables as keyword args: x, y. From version 0.12, the only valid positional argument will be `data`, and passing other arguments without an explicit keyword will result in an error or misinterpretation.\n",
            "  FutureWarning\n"
          ]
        },
        {
          "output_type": "execute_result",
          "data": {
            "text/plain": [
              "<matplotlib.axes._subplots.AxesSubplot at 0x7f43e2b6c310>"
            ]
          },
          "metadata": {},
          "execution_count": 20
        },
        {
          "output_type": "display_data",
          "data": {
            "image/png": "[encoded data removed]",
            "text/plain": [
              "<Figure size 1440x720 with 1 Axes>"
            ]
          },
          "metadata": {}
        }
      ]
    },
    {
      "cell_type": "code",
      "metadata": {
        "colab": {
          "base_uri": "https://localhost:8080/",
          "height": 665
        },
        "id": "XRt-Cm-I1MN3",
        "outputId": "5d38d723-b7ea-4749-b42e-2c70b7bed9cf"
      },
      "source": [
        "v_count_voice = churn_data[\"Voice mail plan\"].value_counts()\n",
        "sns.barplot(v_count_voice.index, v_count_voice.values)"
      ],
      "execution_count": 21,
      "outputs": [
        {
          "output_type": "stream",
          "name": "stderr",
          "text": [
            "/usr/local/lib/python3.7/dist-packages/seaborn/_decorators.py:43: FutureWarning: Pass the following variables as keyword args: x, y. From version 0.12, the only valid positional argument will be `data`, and passing other arguments without an explicit keyword will result in an error or misinterpretation.\n",
            "  FutureWarning\n"
          ]
        },
        {
          "output_type": "execute_result",
          "data": {
            "text/plain": [
              "<matplotlib.axes._subplots.AxesSubplot at 0x7f43e2b06110>"
            ]
          },
          "metadata": {},
          "execution_count": 21
        },
        {
          "output_type": "display_data",
          "data": {
            "image/png": "[encoded data removed]",
            "text/plain": [
              "<Figure size 1440x720 with 1 Axes>"
            ]
          },
          "metadata": {}
        }
      ]
    },
    {
      "cell_type": "code",
      "metadata": {
        "colab": {
          "base_uri": "https://localhost:8080/"
        },
        "id": "HZQk4lB_1cjc",
        "outputId": "f5a2ba67-e261-42b7-9ee4-94036ea8f801"
      },
      "source": [
        "churn_data.groupby([\"Churn\", \"International plan\"])[\"International plan\"].count()"
      ],
      "execution_count": 22,
      "outputs": [
        {
          "output_type": "execute_result",
          "data": {
            "text/plain": [
              "Churn  International plan\n",
              "False  0                     2664\n",
              "       1                      186\n",
              "True   0                      346\n",
              "       1                      137\n",
              "Name: International plan, dtype: int64"
            ]
          },
          "metadata": {},
          "execution_count": 22
        }
      ]
    },
    {
      "cell_type": "code",
      "metadata": {
        "id": "j-EDmmNV4WUI"
      },
      "source": [
        "churn_col = churn_data[\"Churn\"]"
      ],
      "execution_count": 23,
      "outputs": []
    },
    {
      "cell_type": "code",
      "metadata": {
        "colab": {
          "base_uri": "https://localhost:8080/",
          "height": 665
        },
        "id": "FUOw9JKi4a-X",
        "outputId": "ce7a0834-a0ed-4bb5-be5b-2db492c74e5e"
      },
      "source": [
        "# Plotting the correlation of other columns W.R.T. the Churn column to see the effect of columsn on churn\n",
        "sns.barplot(churn_data.corrwith(churn_col).values, churn_data.corrwith(churn_col).index)"
      ],
      "execution_count": 24,
      "outputs": [
        {
          "output_type": "stream",
          "name": "stderr",
          "text": [
            "/usr/local/lib/python3.7/dist-packages/seaborn/_decorators.py:43: FutureWarning: Pass the following variables as keyword args: x, y. From version 0.12, the only valid positional argument will be `data`, and passing other arguments without an explicit keyword will result in an error or misinterpretation.\n",
            "  FutureWarning\n"
          ]
        },
        {
          "output_type": "execute_result",
          "data": {
            "text/plain": [
              "<matplotlib.axes._subplots.AxesSubplot at 0x7f43e2b474d0>"
            ]
          },
          "metadata": {},
          "execution_count": 24
        },
        {
          "output_type": "display_data",
          "data": {
            "image/png": "[encoded data removed]",
            "text/plain": [
              "<Figure size 1440x720 with 1 Axes>"
            ]
          },
          "metadata": {}
        }
      ]
    },
    {
      "cell_type": "markdown",
      "metadata": {
        "id": "WuQlCzeJ5jl_"
      },
      "source": [
        "<h1><strong>Insights from the correlation graph above<strong><h1>\n",
        "<ol>\n",
        "  <li>International Plan, Total Day Charge, Total Evening Charge, Total International Charge and Customers service calls have a strong positive correlation with churn.</li>\n",
        "  <li>Voice mail plan, Number of Voicemail messages and Total international calls have a strong negetive correlation with churn.</li>\n",
        "  <li>Night time calling seems to have minimal impact on the churn rate hence it may not be worth analyzing it in-depth.</li>\n",
        "  <li>The approach from hereon would be look at the churn rate from the perspective of categorical columsn i.e. State, International plan and voicemail plan</li>\n",
        "  <li>Then we'll analyze the numerical features for better insight into what might actually be causing the churn.</li>\n",
        "</ol>"
      ]
    },
    {
      "cell_type": "code",
      "metadata": {
        "id": "eoIOaU8940s9",
        "colab": {
          "base_uri": "https://localhost:8080/"
        },
        "outputId": "1459aa55-3ad9-4b48-a857-c1a056880a01"
      },
      "source": [
        "# we alrady have our categorical colums now making a list of numerical columns to better access the data.\n",
        "# Although area code is numerical data type but it actually is categorical so we add it to the categorical column\n",
        "categorical_cols.append(\"Area code\")\n",
        "num_cols = [col for col in churn_data if col not in categorical_cols]\n",
        "num_cols"
      ],
      "execution_count": 25,
      "outputs": [
        {
          "output_type": "execute_result",
          "data": {
            "text/plain": [
              "['Account length',\n",
              " 'Number vmail messages',\n",
              " 'Total day minutes',\n",
              " 'Total day calls',\n",
              " 'Total day charge',\n",
              " 'Total eve minutes',\n",
              " 'Total eve calls',\n",
              " 'Total eve charge',\n",
              " 'Total night minutes',\n",
              " 'Total night calls',\n",
              " 'Total night charge',\n",
              " 'Total intl minutes',\n",
              " 'Total intl calls',\n",
              " 'Total intl charge',\n",
              " 'Customer service calls',\n",
              " 'Churn',\n",
              " 'Day tariff',\n",
              " 'Eve tariff',\n",
              " 'Night tariff']"
            ]
          },
          "metadata": {},
          "execution_count": 25
        }
      ]
    },
    {
      "cell_type": "code",
      "metadata": {
        "colab": {
          "base_uri": "https://localhost:8080/",
          "height": 628
        },
        "id": "jST1wkD88UoL",
        "outputId": "6d6144e8-e492-48a4-dd5d-85ec929d98b8"
      },
      "source": [
        "# Looking at the State column and churn\n",
        "churn_by_state = churn_data.groupby(\"State\")[\"Churn\"].mean().sort_values(ascending=False)\n",
        "sns.barplot(x = churn_by_state.index, y = churn_by_state.values)"
      ],
      "execution_count": 29,
      "outputs": [
        {
          "output_type": "execute_result",
          "data": {
            "text/plain": [
              "<matplotlib.axes._subplots.AxesSubplot at 0x7f43e2248dd0>"
            ]
          },
          "metadata": {},
          "execution_count": 29
        },
        {
          "output_type": "display_data",
          "data": {
            "image/png": "[encoded data removed]",
            "text/plain": [
              "<Figure size 1440x720 with 1 Axes>"
            ]
          },
          "metadata": {}
        }
      ]
    },
    {
      "cell_type": "code",
      "metadata": {
        "id": "ZArmGfy0RJUc"
      },
      "source": [
        ""
      ],
      "execution_count": 29,
      "outputs": []
    }
  ]
}