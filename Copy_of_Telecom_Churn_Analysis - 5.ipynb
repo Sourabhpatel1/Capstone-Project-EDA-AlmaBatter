{
  "nbformat": 4,
  "nbformat_minor": 0,
  "metadata": {
    "colab": {
      "name": "Copy of Telecom Churn Analysis.ipynb",
      "provenance": [],
      "collapsed_sections": [],
      "mount_file_id": "1h3-JIZ-r7hyu9yArLbnqRSUwV9kaksYF",
      "authorship_tag": "ABX9TyO9TKXwZmiG3B1sIeNzIbQN",
      "include_colab_link": true
    },
    "kernelspec": {
      "name": "python3",
      "display_name": "Python 3"
    },
    "language_info": {
      "name": "python"
    }
  },
  "cells": [
    {
      "cell_type": "markdown",
      "metadata": {
        "id": "view-in-github",
        "colab_type": "text"
      },
      "source": [
        "<a href=\"https://colab.research.google.com/github/Sourabhpatel1/Capstone-Project-EDA-AlmaBatter/blob/main/Copy_of_Telecom_Churn_Analysis%20-%205.ipynb\" target=\"_parent\"><img src=\"https://colab.research.google.com/assets/colab-badge.svg\" alt=\"Open In Colab\"/></a>"
      ]
    },
    {
      "cell_type": "code",
      "metadata": {
        "id": "Q7JE9t-7GOBM"
      },
      "source": [
        "# Import required libraries\n",
        "import pandas as pd\n",
        "import numpy as np\n",
        "import matplotlib.pyplot as plt\n",
        "import seaborn as sns\n",
        "from collections import Counter\n",
        "%matplotlib inline"
      ],
      "execution_count": 1,
      "outputs": []
    },
    {
      "cell_type": "code",
      "metadata": {
        "id": "5Xi09VWFVgKt"
      },
      "source": [
        "# Setting pd option to stop displaying floats in scientific notation\n",
        "pd.set_option('display.float_format', lambda x: '%.5f' % x)"
      ],
      "execution_count": 2,
      "outputs": []
    },
    {
      "cell_type": "code",
      "metadata": {
        "id": "nYfVWbIOXSoV"
      },
      "source": [
        "# Setting figuresize for the seaborn plots\n",
        "# Ajust the plots by changing the values to suit your screen size\n",
        "sns.set(rc={'figure.figsize':(20,10)})"
      ],
      "execution_count": 3,
      "outputs": []
    },
    {
      "cell_type": "code",
      "metadata": {
        "colab": {
          "base_uri": "https://localhost:8080/"
        },
        "id": "7Fj-pYpD13Mg",
        "outputId": "bf0c46d1-2a89-4ce6-f63a-b498d7cbd2b9"
      },
      "source": [
        "# Mounting Google Drive\n",
        "from google.colab import drive\n",
        "drive.mount('/content/drive')"
      ],
      "execution_count": 4,
      "outputs": [
        {
          "output_type": "stream",
          "name": "stdout",
          "text": [
            "Drive already mounted at /content/drive; to attempt to forcibly remount, call drive.mount(\"/content/drive\", force_remount=True).\n"
          ]
        }
      ]
    },
    {
      "cell_type": "code",
      "metadata": {
        "id": "wfOfwQxpGV57"
      },
      "source": [
        "# loading data\n",
        "churn_data = pd.read_csv(\"/content/drive/MyDrive/Copy of Telecom Churn.csv\")"
      ],
      "execution_count": 5,
      "outputs": []
    },
    {
      "cell_type": "code",
      "metadata": {
        "id": "r3uOG80DPGZj",
        "colab": {
          "base_uri": "https://localhost:8080/"
        },
        "outputId": "f1f9cdf5-ecb4-450d-a7d7-0f4746527a97"
      },
      "source": [
        "# checking null values and column info\n",
        "churn_data.info()"
      ],
      "execution_count": 6,
      "outputs": [
        {
          "output_type": "stream",
          "name": "stdout",
          "text": [
            "<class 'pandas.core.frame.DataFrame'>\n",
            "RangeIndex: 3333 entries, 0 to 3332\n",
            "Data columns (total 20 columns):\n",
            " #   Column                  Non-Null Count  Dtype  \n",
            "---  ------                  --------------  -----  \n",
            " 0   State                   3333 non-null   object \n",
            " 1   Account length          3333 non-null   int64  \n",
            " 2   Area code               3333 non-null   int64  \n",
            " 3   International plan      3333 non-null   object \n",
            " 4   Voice mail plan         3333 non-null   object \n",
            " 5   Number vmail messages   3333 non-null   int64  \n",
            " 6   Total day minutes       3333 non-null   float64\n",
            " 7   Total day calls         3333 non-null   int64  \n",
            " 8   Total day charge        3333 non-null   float64\n",
            " 9   Total eve minutes       3333 non-null   float64\n",
            " 10  Total eve calls         3333 non-null   int64  \n",
            " 11  Total eve charge        3333 non-null   float64\n",
            " 12  Total night minutes     3333 non-null   float64\n",
            " 13  Total night calls       3333 non-null   int64  \n",
            " 14  Total night charge      3333 non-null   float64\n",
            " 15  Total intl minutes      3333 non-null   float64\n",
            " 16  Total intl calls        3333 non-null   int64  \n",
            " 17  Total intl charge       3333 non-null   float64\n",
            " 18  Customer service calls  3333 non-null   int64  \n",
            " 19  Churn                   3333 non-null   bool   \n",
            "dtypes: bool(1), float64(8), int64(8), object(3)\n",
            "memory usage: 498.1+ KB\n"
          ]
        }
      ]
    },
    {
      "cell_type": "markdown",
      "metadata": {
        "id": "GC-YRKeQrr-H"
      },
      "source": [
        "<p>There are no null Values in the Columns.</p> \n",
        "<p>Thus there is no need to handle null values.</p>\n",
        "<p> There are 16 numerical columns (8 float 64 and 8 int64), 3 object (text/categorical) columns and 1 column with boolean (True/False) datatype </p> \n",
        "\n",
        " "
      ]
    },
    {
      "cell_type": "code",
      "metadata": {
        "id": "Kl7M-Ob1-_Cz",
        "colab": {
          "base_uri": "https://localhost:8080/"
        },
        "outputId": "592a08fa-b73b-4513-a8d6-cadc4373bcf4"
      },
      "source": [
        "# Checking the number of columns\n",
        "\n",
        "print(churn_data.columns)\n",
        "print(f\"\\n There are {len(churn_data.columns)} columns in the dataset\")"
      ],
      "execution_count": 7,
      "outputs": [
        {
          "output_type": "stream",
          "name": "stdout",
          "text": [
            "Index(['State', 'Account length', 'Area code', 'International plan',\n",
            "       'Voice mail plan', 'Number vmail messages', 'Total day minutes',\n",
            "       'Total day calls', 'Total day charge', 'Total eve minutes',\n",
            "       'Total eve calls', 'Total eve charge', 'Total night minutes',\n",
            "       'Total night calls', 'Total night charge', 'Total intl minutes',\n",
            "       'Total intl calls', 'Total intl charge', 'Customer service calls',\n",
            "       'Churn'],\n",
            "      dtype='object')\n",
            "\n",
            " There are 20 columns in the dataset\n"
          ]
        }
      ]
    },
    {
      "cell_type": "code",
      "metadata": {
        "colab": {
          "base_uri": "https://localhost:8080/",
          "height": 241
        },
        "id": "cMthEM7AGV35",
        "outputId": "8520a054-e2e6-4b3d-bf2e-1a6cde18ee6c"
      },
      "source": [
        "# checking the head\n",
        "churn_data.head()"
      ],
      "execution_count": 8,
      "outputs": [
        {
          "output_type": "execute_result",
          "data": {
            "text/html": [
              "<div>\n",
              "<style scoped>\n",
              "    .dataframe tbody tr th:only-of-type {\n",
              "        vertical-align: middle;\n",
              "    }\n",
              "\n",
              "    .dataframe tbody tr th {\n",
              "        vertical-align: top;\n",
              "    }\n",
              "\n",
              "    .dataframe thead th {\n",
              "        text-align: right;\n",
              "    }\n",
              "</style>\n",
              "<table border=\"1\" class=\"dataframe\">\n",
              "  <thead>\n",
              "    <tr style=\"text-align: right;\">\n",
              "      <th></th>\n",
              "      <th>State</th>\n",
              "      <th>Account length</th>\n",
              "      <th>Area code</th>\n",
              "      <th>International plan</th>\n",
              "      <th>Voice mail plan</th>\n",
              "      <th>Number vmail messages</th>\n",
              "      <th>Total day minutes</th>\n",
              "      <th>Total day calls</th>\n",
              "      <th>Total day charge</th>\n",
              "      <th>Total eve minutes</th>\n",
              "      <th>Total eve calls</th>\n",
              "      <th>Total eve charge</th>\n",
              "      <th>Total night minutes</th>\n",
              "      <th>Total night calls</th>\n",
              "      <th>Total night charge</th>\n",
              "      <th>Total intl minutes</th>\n",
              "      <th>Total intl calls</th>\n",
              "      <th>Total intl charge</th>\n",
              "      <th>Customer service calls</th>\n",
              "      <th>Churn</th>\n",
              "    </tr>\n",
              "  </thead>\n",
              "  <tbody>\n",
              "    <tr>\n",
              "      <th>0</th>\n",
              "      <td>KS</td>\n",
              "      <td>128</td>\n",
              "      <td>415</td>\n",
              "      <td>No</td>\n",
              "      <td>Yes</td>\n",
              "      <td>25</td>\n",
              "      <td>265.10000</td>\n",
              "      <td>110</td>\n",
              "      <td>45.07000</td>\n",
              "      <td>197.40000</td>\n",
              "      <td>99</td>\n",
              "      <td>16.78000</td>\n",
              "      <td>244.70000</td>\n",
              "      <td>91</td>\n",
              "      <td>11.01000</td>\n",
              "      <td>10.00000</td>\n",
              "      <td>3</td>\n",
              "      <td>2.70000</td>\n",
              "      <td>1</td>\n",
              "      <td>False</td>\n",
              "    </tr>\n",
              "    <tr>\n",
              "      <th>1</th>\n",
              "      <td>OH</td>\n",
              "      <td>107</td>\n",
              "      <td>415</td>\n",
              "      <td>No</td>\n",
              "      <td>Yes</td>\n",
              "      <td>26</td>\n",
              "      <td>161.60000</td>\n",
              "      <td>123</td>\n",
              "      <td>27.47000</td>\n",
              "      <td>195.50000</td>\n",
              "      <td>103</td>\n",
              "      <td>16.62000</td>\n",
              "      <td>254.40000</td>\n",
              "      <td>103</td>\n",
              "      <td>11.45000</td>\n",
              "      <td>13.70000</td>\n",
              "      <td>3</td>\n",
              "      <td>3.70000</td>\n",
              "      <td>1</td>\n",
              "      <td>False</td>\n",
              "    </tr>\n",
              "    <tr>\n",
              "      <th>2</th>\n",
              "      <td>NJ</td>\n",
              "      <td>137</td>\n",
              "      <td>415</td>\n",
              "      <td>No</td>\n",
              "      <td>No</td>\n",
              "      <td>0</td>\n",
              "      <td>243.40000</td>\n",
              "      <td>114</td>\n",
              "      <td>41.38000</td>\n",
              "      <td>121.20000</td>\n",
              "      <td>110</td>\n",
              "      <td>10.30000</td>\n",
              "      <td>162.60000</td>\n",
              "      <td>104</td>\n",
              "      <td>7.32000</td>\n",
              "      <td>12.20000</td>\n",
              "      <td>5</td>\n",
              "      <td>3.29000</td>\n",
              "      <td>0</td>\n",
              "      <td>False</td>\n",
              "    </tr>\n",
              "    <tr>\n",
              "      <th>3</th>\n",
              "      <td>OH</td>\n",
              "      <td>84</td>\n",
              "      <td>408</td>\n",
              "      <td>Yes</td>\n",
              "      <td>No</td>\n",
              "      <td>0</td>\n",
              "      <td>299.40000</td>\n",
              "      <td>71</td>\n",
              "      <td>50.90000</td>\n",
              "      <td>61.90000</td>\n",
              "      <td>88</td>\n",
              "      <td>5.26000</td>\n",
              "      <td>196.90000</td>\n",
              "      <td>89</td>\n",
              "      <td>8.86000</td>\n",
              "      <td>6.60000</td>\n",
              "      <td>7</td>\n",
              "      <td>1.78000</td>\n",
              "      <td>2</td>\n",
              "      <td>False</td>\n",
              "    </tr>\n",
              "    <tr>\n",
              "      <th>4</th>\n",
              "      <td>OK</td>\n",
              "      <td>75</td>\n",
              "      <td>415</td>\n",
              "      <td>Yes</td>\n",
              "      <td>No</td>\n",
              "      <td>0</td>\n",
              "      <td>166.70000</td>\n",
              "      <td>113</td>\n",
              "      <td>28.34000</td>\n",
              "      <td>148.30000</td>\n",
              "      <td>122</td>\n",
              "      <td>12.61000</td>\n",
              "      <td>186.90000</td>\n",
              "      <td>121</td>\n",
              "      <td>8.41000</td>\n",
              "      <td>10.10000</td>\n",
              "      <td>3</td>\n",
              "      <td>2.73000</td>\n",
              "      <td>3</td>\n",
              "      <td>False</td>\n",
              "    </tr>\n",
              "  </tbody>\n",
              "</table>\n",
              "</div>"
            ],
            "text/plain": [
              "  State  Account length  ...  Customer service calls  Churn\n",
              "0    KS             128  ...                       1  False\n",
              "1    OH             107  ...                       1  False\n",
              "2    NJ             137  ...                       0  False\n",
              "3    OH              84  ...                       2  False\n",
              "4    OK              75  ...                       3  False\n",
              "\n",
              "[5 rows x 20 columns]"
            ]
          },
          "metadata": {},
          "execution_count": 8
        }
      ]
    },
    {
      "cell_type": "code",
      "metadata": {
        "colab": {
          "base_uri": "https://localhost:8080/",
          "height": 241
        },
        "id": "4GLxAmoVGV1q",
        "outputId": "68383699-3d29-4e35-873e-c60984d068af"
      },
      "source": [
        "# checking the tail\n",
        "churn_data.tail()"
      ],
      "execution_count": 9,
      "outputs": [
        {
          "output_type": "execute_result",
          "data": {
            "text/html": [
              "<div>\n",
              "<style scoped>\n",
              "    .dataframe tbody tr th:only-of-type {\n",
              "        vertical-align: middle;\n",
              "    }\n",
              "\n",
              "    .dataframe tbody tr th {\n",
              "        vertical-align: top;\n",
              "    }\n",
              "\n",
              "    .dataframe thead th {\n",
              "        text-align: right;\n",
              "    }\n",
              "</style>\n",
              "<table border=\"1\" class=\"dataframe\">\n",
              "  <thead>\n",
              "    <tr style=\"text-align: right;\">\n",
              "      <th></th>\n",
              "      <th>State</th>\n",
              "      <th>Account length</th>\n",
              "      <th>Area code</th>\n",
              "      <th>International plan</th>\n",
              "      <th>Voice mail plan</th>\n",
              "      <th>Number vmail messages</th>\n",
              "      <th>Total day minutes</th>\n",
              "      <th>Total day calls</th>\n",
              "      <th>Total day charge</th>\n",
              "      <th>Total eve minutes</th>\n",
              "      <th>Total eve calls</th>\n",
              "      <th>Total eve charge</th>\n",
              "      <th>Total night minutes</th>\n",
              "      <th>Total night calls</th>\n",
              "      <th>Total night charge</th>\n",
              "      <th>Total intl minutes</th>\n",
              "      <th>Total intl calls</th>\n",
              "      <th>Total intl charge</th>\n",
              "      <th>Customer service calls</th>\n",
              "      <th>Churn</th>\n",
              "    </tr>\n",
              "  </thead>\n",
              "  <tbody>\n",
              "    <tr>\n",
              "      <th>3328</th>\n",
              "      <td>AZ</td>\n",
              "      <td>192</td>\n",
              "      <td>415</td>\n",
              "      <td>No</td>\n",
              "      <td>Yes</td>\n",
              "      <td>36</td>\n",
              "      <td>156.20000</td>\n",
              "      <td>77</td>\n",
              "      <td>26.55000</td>\n",
              "      <td>215.50000</td>\n",
              "      <td>126</td>\n",
              "      <td>18.32000</td>\n",
              "      <td>279.10000</td>\n",
              "      <td>83</td>\n",
              "      <td>12.56000</td>\n",
              "      <td>9.90000</td>\n",
              "      <td>6</td>\n",
              "      <td>2.67000</td>\n",
              "      <td>2</td>\n",
              "      <td>False</td>\n",
              "    </tr>\n",
              "    <tr>\n",
              "      <th>3329</th>\n",
              "      <td>WV</td>\n",
              "      <td>68</td>\n",
              "      <td>415</td>\n",
              "      <td>No</td>\n",
              "      <td>No</td>\n",
              "      <td>0</td>\n",
              "      <td>231.10000</td>\n",
              "      <td>57</td>\n",
              "      <td>39.29000</td>\n",
              "      <td>153.40000</td>\n",
              "      <td>55</td>\n",
              "      <td>13.04000</td>\n",
              "      <td>191.30000</td>\n",
              "      <td>123</td>\n",
              "      <td>8.61000</td>\n",
              "      <td>9.60000</td>\n",
              "      <td>4</td>\n",
              "      <td>2.59000</td>\n",
              "      <td>3</td>\n",
              "      <td>False</td>\n",
              "    </tr>\n",
              "    <tr>\n",
              "      <th>3330</th>\n",
              "      <td>RI</td>\n",
              "      <td>28</td>\n",
              "      <td>510</td>\n",
              "      <td>No</td>\n",
              "      <td>No</td>\n",
              "      <td>0</td>\n",
              "      <td>180.80000</td>\n",
              "      <td>109</td>\n",
              "      <td>30.74000</td>\n",
              "      <td>288.80000</td>\n",
              "      <td>58</td>\n",
              "      <td>24.55000</td>\n",
              "      <td>191.90000</td>\n",
              "      <td>91</td>\n",
              "      <td>8.64000</td>\n",
              "      <td>14.10000</td>\n",
              "      <td>6</td>\n",
              "      <td>3.81000</td>\n",
              "      <td>2</td>\n",
              "      <td>False</td>\n",
              "    </tr>\n",
              "    <tr>\n",
              "      <th>3331</th>\n",
              "      <td>CT</td>\n",
              "      <td>184</td>\n",
              "      <td>510</td>\n",
              "      <td>Yes</td>\n",
              "      <td>No</td>\n",
              "      <td>0</td>\n",
              "      <td>213.80000</td>\n",
              "      <td>105</td>\n",
              "      <td>36.35000</td>\n",
              "      <td>159.60000</td>\n",
              "      <td>84</td>\n",
              "      <td>13.57000</td>\n",
              "      <td>139.20000</td>\n",
              "      <td>137</td>\n",
              "      <td>6.26000</td>\n",
              "      <td>5.00000</td>\n",
              "      <td>10</td>\n",
              "      <td>1.35000</td>\n",
              "      <td>2</td>\n",
              "      <td>False</td>\n",
              "    </tr>\n",
              "    <tr>\n",
              "      <th>3332</th>\n",
              "      <td>TN</td>\n",
              "      <td>74</td>\n",
              "      <td>415</td>\n",
              "      <td>No</td>\n",
              "      <td>Yes</td>\n",
              "      <td>25</td>\n",
              "      <td>234.40000</td>\n",
              "      <td>113</td>\n",
              "      <td>39.85000</td>\n",
              "      <td>265.90000</td>\n",
              "      <td>82</td>\n",
              "      <td>22.60000</td>\n",
              "      <td>241.40000</td>\n",
              "      <td>77</td>\n",
              "      <td>10.86000</td>\n",
              "      <td>13.70000</td>\n",
              "      <td>4</td>\n",
              "      <td>3.70000</td>\n",
              "      <td>0</td>\n",
              "      <td>False</td>\n",
              "    </tr>\n",
              "  </tbody>\n",
              "</table>\n",
              "</div>"
            ],
            "text/plain": [
              "     State  Account length  ...  Customer service calls  Churn\n",
              "3328    AZ             192  ...                       2  False\n",
              "3329    WV              68  ...                       3  False\n",
              "3330    RI              28  ...                       2  False\n",
              "3331    CT             184  ...                       2  False\n",
              "3332    TN              74  ...                       0  False\n",
              "\n",
              "[5 rows x 20 columns]"
            ]
          },
          "metadata": {},
          "execution_count": 9
        }
      ]
    },
    {
      "cell_type": "code",
      "metadata": {
        "colab": {
          "base_uri": "https://localhost:8080/",
          "height": 318
        },
        "id": "Wy01Q4X_HMg9",
        "outputId": "b947a7f9-660a-446e-e571-16065274bab3"
      },
      "source": [
        "# Getting Overview of the Dataset\n",
        "churn_data.describe()"
      ],
      "execution_count": 10,
      "outputs": [
        {
          "output_type": "execute_result",
          "data": {
            "text/html": [
              "<div>\n",
              "<style scoped>\n",
              "    .dataframe tbody tr th:only-of-type {\n",
              "        vertical-align: middle;\n",
              "    }\n",
              "\n",
              "    .dataframe tbody tr th {\n",
              "        vertical-align: top;\n",
              "    }\n",
              "\n",
              "    .dataframe thead th {\n",
              "        text-align: right;\n",
              "    }\n",
              "</style>\n",
              "<table border=\"1\" class=\"dataframe\">\n",
              "  <thead>\n",
              "    <tr style=\"text-align: right;\">\n",
              "      <th></th>\n",
              "      <th>Account length</th>\n",
              "      <th>Area code</th>\n",
              "      <th>Number vmail messages</th>\n",
              "      <th>Total day minutes</th>\n",
              "      <th>Total day calls</th>\n",
              "      <th>Total day charge</th>\n",
              "      <th>Total eve minutes</th>\n",
              "      <th>Total eve calls</th>\n",
              "      <th>Total eve charge</th>\n",
              "      <th>Total night minutes</th>\n",
              "      <th>Total night calls</th>\n",
              "      <th>Total night charge</th>\n",
              "      <th>Total intl minutes</th>\n",
              "      <th>Total intl calls</th>\n",
              "      <th>Total intl charge</th>\n",
              "      <th>Customer service calls</th>\n",
              "    </tr>\n",
              "  </thead>\n",
              "  <tbody>\n",
              "    <tr>\n",
              "      <th>count</th>\n",
              "      <td>3333.00000</td>\n",
              "      <td>3333.00000</td>\n",
              "      <td>3333.00000</td>\n",
              "      <td>3333.00000</td>\n",
              "      <td>3333.00000</td>\n",
              "      <td>3333.00000</td>\n",
              "      <td>3333.00000</td>\n",
              "      <td>3333.00000</td>\n",
              "      <td>3333.00000</td>\n",
              "      <td>3333.00000</td>\n",
              "      <td>3333.00000</td>\n",
              "      <td>3333.00000</td>\n",
              "      <td>3333.00000</td>\n",
              "      <td>3333.00000</td>\n",
              "      <td>3333.00000</td>\n",
              "      <td>3333.00000</td>\n",
              "    </tr>\n",
              "    <tr>\n",
              "      <th>mean</th>\n",
              "      <td>101.06481</td>\n",
              "      <td>437.18242</td>\n",
              "      <td>8.09901</td>\n",
              "      <td>179.77510</td>\n",
              "      <td>100.43564</td>\n",
              "      <td>30.56231</td>\n",
              "      <td>200.98035</td>\n",
              "      <td>100.11431</td>\n",
              "      <td>17.08354</td>\n",
              "      <td>200.87204</td>\n",
              "      <td>100.10771</td>\n",
              "      <td>9.03932</td>\n",
              "      <td>10.23729</td>\n",
              "      <td>4.47945</td>\n",
              "      <td>2.76458</td>\n",
              "      <td>1.56286</td>\n",
              "    </tr>\n",
              "    <tr>\n",
              "      <th>std</th>\n",
              "      <td>39.82211</td>\n",
              "      <td>42.37129</td>\n",
              "      <td>13.68837</td>\n",
              "      <td>54.46739</td>\n",
              "      <td>20.06908</td>\n",
              "      <td>9.25943</td>\n",
              "      <td>50.71384</td>\n",
              "      <td>19.92263</td>\n",
              "      <td>4.31067</td>\n",
              "      <td>50.57385</td>\n",
              "      <td>19.56861</td>\n",
              "      <td>2.27587</td>\n",
              "      <td>2.79184</td>\n",
              "      <td>2.46121</td>\n",
              "      <td>0.75377</td>\n",
              "      <td>1.31549</td>\n",
              "    </tr>\n",
              "    <tr>\n",
              "      <th>min</th>\n",
              "      <td>1.00000</td>\n",
              "      <td>408.00000</td>\n",
              "      <td>0.00000</td>\n",
              "      <td>0.00000</td>\n",
              "      <td>0.00000</td>\n",
              "      <td>0.00000</td>\n",
              "      <td>0.00000</td>\n",
              "      <td>0.00000</td>\n",
              "      <td>0.00000</td>\n",
              "      <td>23.20000</td>\n",
              "      <td>33.00000</td>\n",
              "      <td>1.04000</td>\n",
              "      <td>0.00000</td>\n",
              "      <td>0.00000</td>\n",
              "      <td>0.00000</td>\n",
              "      <td>0.00000</td>\n",
              "    </tr>\n",
              "    <tr>\n",
              "      <th>25%</th>\n",
              "      <td>74.00000</td>\n",
              "      <td>408.00000</td>\n",
              "      <td>0.00000</td>\n",
              "      <td>143.70000</td>\n",
              "      <td>87.00000</td>\n",
              "      <td>24.43000</td>\n",
              "      <td>166.60000</td>\n",
              "      <td>87.00000</td>\n",
              "      <td>14.16000</td>\n",
              "      <td>167.00000</td>\n",
              "      <td>87.00000</td>\n",
              "      <td>7.52000</td>\n",
              "      <td>8.50000</td>\n",
              "      <td>3.00000</td>\n",
              "      <td>2.30000</td>\n",
              "      <td>1.00000</td>\n",
              "    </tr>\n",
              "    <tr>\n",
              "      <th>50%</th>\n",
              "      <td>101.00000</td>\n",
              "      <td>415.00000</td>\n",
              "      <td>0.00000</td>\n",
              "      <td>179.40000</td>\n",
              "      <td>101.00000</td>\n",
              "      <td>30.50000</td>\n",
              "      <td>201.40000</td>\n",
              "      <td>100.00000</td>\n",
              "      <td>17.12000</td>\n",
              "      <td>201.20000</td>\n",
              "      <td>100.00000</td>\n",
              "      <td>9.05000</td>\n",
              "      <td>10.30000</td>\n",
              "      <td>4.00000</td>\n",
              "      <td>2.78000</td>\n",
              "      <td>1.00000</td>\n",
              "    </tr>\n",
              "    <tr>\n",
              "      <th>75%</th>\n",
              "      <td>127.00000</td>\n",
              "      <td>510.00000</td>\n",
              "      <td>20.00000</td>\n",
              "      <td>216.40000</td>\n",
              "      <td>114.00000</td>\n",
              "      <td>36.79000</td>\n",
              "      <td>235.30000</td>\n",
              "      <td>114.00000</td>\n",
              "      <td>20.00000</td>\n",
              "      <td>235.30000</td>\n",
              "      <td>113.00000</td>\n",
              "      <td>10.59000</td>\n",
              "      <td>12.10000</td>\n",
              "      <td>6.00000</td>\n",
              "      <td>3.27000</td>\n",
              "      <td>2.00000</td>\n",
              "    </tr>\n",
              "    <tr>\n",
              "      <th>max</th>\n",
              "      <td>243.00000</td>\n",
              "      <td>510.00000</td>\n",
              "      <td>51.00000</td>\n",
              "      <td>350.80000</td>\n",
              "      <td>165.00000</td>\n",
              "      <td>59.64000</td>\n",
              "      <td>363.70000</td>\n",
              "      <td>170.00000</td>\n",
              "      <td>30.91000</td>\n",
              "      <td>395.00000</td>\n",
              "      <td>175.00000</td>\n",
              "      <td>17.77000</td>\n",
              "      <td>20.00000</td>\n",
              "      <td>20.00000</td>\n",
              "      <td>5.40000</td>\n",
              "      <td>9.00000</td>\n",
              "    </tr>\n",
              "  </tbody>\n",
              "</table>\n",
              "</div>"
            ],
            "text/plain": [
              "       Account length  Area code  ...  Total intl charge  Customer service calls\n",
              "count      3333.00000 3333.00000  ...         3333.00000              3333.00000\n",
              "mean        101.06481  437.18242  ...            2.76458                 1.56286\n",
              "std          39.82211   42.37129  ...            0.75377                 1.31549\n",
              "min           1.00000  408.00000  ...            0.00000                 0.00000\n",
              "25%          74.00000  408.00000  ...            2.30000                 1.00000\n",
              "50%         101.00000  415.00000  ...            2.78000                 1.00000\n",
              "75%         127.00000  510.00000  ...            3.27000                 2.00000\n",
              "max         243.00000  510.00000  ...            5.40000                 9.00000\n",
              "\n",
              "[8 rows x 16 columns]"
            ]
          },
          "metadata": {},
          "execution_count": 10
        }
      ]
    },
    {
      "cell_type": "markdown",
      "metadata": {
        "id": "l3eA-rsZAcRH"
      },
      "source": [
        "<h1><strong> Dataset in a Glance</strong><h1>\n",
        "\n",
        "> The describe function without any parameters\n",
        "returns the description of only numerical columns. For analysing the Categorical and Boolean data the describe function has to be called with specific parameters, which has been done in the next cell\n",
        "\n",
        "---\n",
        "\n",
        "\n",
        "<ol>\n",
        "  <li>Average account lenghth is approximately 101 days.</li>\n",
        "  <li>Although the average number of calls in all three timeblocks i.e. Day, Evening, Night is 100 but the average duration of calls varies significantly with time of the day.</li>\n",
        "  <li>Average call duration during day is 179.77 minutes, during evening it is 200 minutes on an average and 200 minutes on an average during the night.</li>\n",
        "  <li>The mean value of number of voicemails per customer is 8 on an average, however, the standard deviation is very high suggesting that the number of customers availing voicemail serveces are very few and sporadic.</li>\n",
        "  <li> Average international minutes is around 10 minutes per customer and average international call per customer is 4 suggesting that very few customers call internationally.</li>\n",
        "</ol>\n"
      ]
    },
    {
      "cell_type": "code",
      "metadata": {
        "id": "8jppAd1EDYJa",
        "colab": {
          "base_uri": "https://localhost:8080/",
          "height": 175
        },
        "outputId": "5f721f72-81d4-4c40-aee4-a3a35afe5c09"
      },
      "source": [
        "# Getting overview of the categorical and boolean data columns\n",
        "\n",
        "churn_data.describe(include=[\"object\", \"bool\"])"
      ],
      "execution_count": 11,
      "outputs": [
        {
          "output_type": "execute_result",
          "data": {
            "text/html": [
              "<div>\n",
              "<style scoped>\n",
              "    .dataframe tbody tr th:only-of-type {\n",
              "        vertical-align: middle;\n",
              "    }\n",
              "\n",
              "    .dataframe tbody tr th {\n",
              "        vertical-align: top;\n",
              "    }\n",
              "\n",
              "    .dataframe thead th {\n",
              "        text-align: right;\n",
              "    }\n",
              "</style>\n",
              "<table border=\"1\" class=\"dataframe\">\n",
              "  <thead>\n",
              "    <tr style=\"text-align: right;\">\n",
              "      <th></th>\n",
              "      <th>State</th>\n",
              "      <th>International plan</th>\n",
              "      <th>Voice mail plan</th>\n",
              "      <th>Churn</th>\n",
              "    </tr>\n",
              "  </thead>\n",
              "  <tbody>\n",
              "    <tr>\n",
              "      <th>count</th>\n",
              "      <td>3333</td>\n",
              "      <td>3333</td>\n",
              "      <td>3333</td>\n",
              "      <td>3333</td>\n",
              "    </tr>\n",
              "    <tr>\n",
              "      <th>unique</th>\n",
              "      <td>51</td>\n",
              "      <td>2</td>\n",
              "      <td>2</td>\n",
              "      <td>2</td>\n",
              "    </tr>\n",
              "    <tr>\n",
              "      <th>top</th>\n",
              "      <td>WV</td>\n",
              "      <td>No</td>\n",
              "      <td>No</td>\n",
              "      <td>False</td>\n",
              "    </tr>\n",
              "    <tr>\n",
              "      <th>freq</th>\n",
              "      <td>106</td>\n",
              "      <td>3010</td>\n",
              "      <td>2411</td>\n",
              "      <td>2850</td>\n",
              "    </tr>\n",
              "  </tbody>\n",
              "</table>\n",
              "</div>"
            ],
            "text/plain": [
              "       State International plan Voice mail plan  Churn\n",
              "count   3333               3333            3333   3333\n",
              "unique    51                  2               2      2\n",
              "top       WV                 No              No  False\n",
              "freq     106               3010            2411   2850"
            ]
          },
          "metadata": {},
          "execution_count": 11
        }
      ]
    },
    {
      "cell_type": "markdown",
      "metadata": {
        "id": "fVqUKx2tOWgn"
      },
      "source": [
        "<h1><strong>Categorical Data at a glance</strong></h1>\n",
        "<ol>\n",
        "  <li>There are 51 unique states in the datatset with State Code WV having the most number of subscribers i.e. 106 subscribers.</li>\n",
        "  <li>Out of the 3333 subscribers 3010 subscribers do not have a International Plan.</li>\n",
        "  <li>Out of 3333 subscribers 2411 dont have a voice mail plan.</li>\n",
        "  <li> Out of 3333 subscribers 483 subscribers have stoppped using the services of the company.</li>\n",
        "  <li> 14.50 percent of subscribers have stooped using the services of the comapny thus churn rate of the comapny is 14.50 % which is very high.</li>\n",
        "</ol>\n"
      ]
    },
    {
      "cell_type": "code",
      "metadata": {
        "colab": {
          "base_uri": "https://localhost:8080/",
          "height": 458
        },
        "id": "gWKkwO-83zBT",
        "outputId": "7abffff5-f4cc-4357-8520-ab5fe73a5a98"
      },
      "source": [
        "# Making extra columns for finding out the per minute tariff for Day, Evening and Night charges.\n",
        "\n",
        "churn_data['Day tariff'] = round(churn_data['Total day charge']/churn_data['Total day minutes'],2)\n",
        "churn_data['Eve tariff'] = round(churn_data['Total eve charge']/churn_data['Total eve minutes'],2)\n",
        "churn_data['Night tariff'] = round(churn_data['Total night charge']/churn_data['Total night minutes'],2)\n",
        "churn_data"
      ],
      "execution_count": 12,
      "outputs": [
        {
          "output_type": "execute_result",
          "data": {
            "text/html": [
              "<div>\n",
              "<style scoped>\n",
              "    .dataframe tbody tr th:only-of-type {\n",
              "        vertical-align: middle;\n",
              "    }\n",
              "\n",
              "    .dataframe tbody tr th {\n",
              "        vertical-align: top;\n",
              "    }\n",
              "\n",
              "    .dataframe thead th {\n",
              "        text-align: right;\n",
              "    }\n",
              "</style>\n",
              "<table border=\"1\" class=\"dataframe\">\n",
              "  <thead>\n",
              "    <tr style=\"text-align: right;\">\n",
              "      <th></th>\n",
              "      <th>State</th>\n",
              "      <th>Account length</th>\n",
              "      <th>Area code</th>\n",
              "      <th>International plan</th>\n",
              "      <th>Voice mail plan</th>\n",
              "      <th>Number vmail messages</th>\n",
              "      <th>Total day minutes</th>\n",
              "      <th>Total day calls</th>\n",
              "      <th>Total day charge</th>\n",
              "      <th>Total eve minutes</th>\n",
              "      <th>Total eve calls</th>\n",
              "      <th>Total eve charge</th>\n",
              "      <th>Total night minutes</th>\n",
              "      <th>Total night calls</th>\n",
              "      <th>Total night charge</th>\n",
              "      <th>Total intl minutes</th>\n",
              "      <th>Total intl calls</th>\n",
              "      <th>Total intl charge</th>\n",
              "      <th>Customer service calls</th>\n",
              "      <th>Churn</th>\n",
              "      <th>Day tariff</th>\n",
              "      <th>Eve tariff</th>\n",
              "      <th>Night tariff</th>\n",
              "    </tr>\n",
              "  </thead>\n",
              "  <tbody>\n",
              "    <tr>\n",
              "      <th>0</th>\n",
              "      <td>KS</td>\n",
              "      <td>128</td>\n",
              "      <td>415</td>\n",
              "      <td>No</td>\n",
              "      <td>Yes</td>\n",
              "      <td>25</td>\n",
              "      <td>265.10000</td>\n",
              "      <td>110</td>\n",
              "      <td>45.07000</td>\n",
              "      <td>197.40000</td>\n",
              "      <td>99</td>\n",
              "      <td>16.78000</td>\n",
              "      <td>244.70000</td>\n",
              "      <td>91</td>\n",
              "      <td>11.01000</td>\n",
              "      <td>10.00000</td>\n",
              "      <td>3</td>\n",
              "      <td>2.70000</td>\n",
              "      <td>1</td>\n",
              "      <td>False</td>\n",
              "      <td>0.17000</td>\n",
              "      <td>0.09000</td>\n",
              "      <td>0.04000</td>\n",
              "    </tr>\n",
              "    <tr>\n",
              "      <th>1</th>\n",
              "      <td>OH</td>\n",
              "      <td>107</td>\n",
              "      <td>415</td>\n",
              "      <td>No</td>\n",
              "      <td>Yes</td>\n",
              "      <td>26</td>\n",
              "      <td>161.60000</td>\n",
              "      <td>123</td>\n",
              "      <td>27.47000</td>\n",
              "      <td>195.50000</td>\n",
              "      <td>103</td>\n",
              "      <td>16.62000</td>\n",
              "      <td>254.40000</td>\n",
              "      <td>103</td>\n",
              "      <td>11.45000</td>\n",
              "      <td>13.70000</td>\n",
              "      <td>3</td>\n",
              "      <td>3.70000</td>\n",
              "      <td>1</td>\n",
              "      <td>False</td>\n",
              "      <td>0.17000</td>\n",
              "      <td>0.09000</td>\n",
              "      <td>0.05000</td>\n",
              "    </tr>\n",
              "    <tr>\n",
              "      <th>2</th>\n",
              "      <td>NJ</td>\n",
              "      <td>137</td>\n",
              "      <td>415</td>\n",
              "      <td>No</td>\n",
              "      <td>No</td>\n",
              "      <td>0</td>\n",
              "      <td>243.40000</td>\n",
              "      <td>114</td>\n",
              "      <td>41.38000</td>\n",
              "      <td>121.20000</td>\n",
              "      <td>110</td>\n",
              "      <td>10.30000</td>\n",
              "      <td>162.60000</td>\n",
              "      <td>104</td>\n",
              "      <td>7.32000</td>\n",
              "      <td>12.20000</td>\n",
              "      <td>5</td>\n",
              "      <td>3.29000</td>\n",
              "      <td>0</td>\n",
              "      <td>False</td>\n",
              "      <td>0.17000</td>\n",
              "      <td>0.08000</td>\n",
              "      <td>0.05000</td>\n",
              "    </tr>\n",
              "    <tr>\n",
              "      <th>3</th>\n",
              "      <td>OH</td>\n",
              "      <td>84</td>\n",
              "      <td>408</td>\n",
              "      <td>Yes</td>\n",
              "      <td>No</td>\n",
              "      <td>0</td>\n",
              "      <td>299.40000</td>\n",
              "      <td>71</td>\n",
              "      <td>50.90000</td>\n",
              "      <td>61.90000</td>\n",
              "      <td>88</td>\n",
              "      <td>5.26000</td>\n",
              "      <td>196.90000</td>\n",
              "      <td>89</td>\n",
              "      <td>8.86000</td>\n",
              "      <td>6.60000</td>\n",
              "      <td>7</td>\n",
              "      <td>1.78000</td>\n",
              "      <td>2</td>\n",
              "      <td>False</td>\n",
              "      <td>0.17000</td>\n",
              "      <td>0.08000</td>\n",
              "      <td>0.04000</td>\n",
              "    </tr>\n",
              "    <tr>\n",
              "      <th>4</th>\n",
              "      <td>OK</td>\n",
              "      <td>75</td>\n",
              "      <td>415</td>\n",
              "      <td>Yes</td>\n",
              "      <td>No</td>\n",
              "      <td>0</td>\n",
              "      <td>166.70000</td>\n",
              "      <td>113</td>\n",
              "      <td>28.34000</td>\n",
              "      <td>148.30000</td>\n",
              "      <td>122</td>\n",
              "      <td>12.61000</td>\n",
              "      <td>186.90000</td>\n",
              "      <td>121</td>\n",
              "      <td>8.41000</td>\n",
              "      <td>10.10000</td>\n",
              "      <td>3</td>\n",
              "      <td>2.73000</td>\n",
              "      <td>3</td>\n",
              "      <td>False</td>\n",
              "      <td>0.17000</td>\n",
              "      <td>0.09000</td>\n",
              "      <td>0.04000</td>\n",
              "    </tr>\n",
              "    <tr>\n",
              "      <th>...</th>\n",
              "      <td>...</td>\n",
              "      <td>...</td>\n",
              "      <td>...</td>\n",
              "      <td>...</td>\n",
              "      <td>...</td>\n",
              "      <td>...</td>\n",
              "      <td>...</td>\n",
              "      <td>...</td>\n",
              "      <td>...</td>\n",
              "      <td>...</td>\n",
              "      <td>...</td>\n",
              "      <td>...</td>\n",
              "      <td>...</td>\n",
              "      <td>...</td>\n",
              "      <td>...</td>\n",
              "      <td>...</td>\n",
              "      <td>...</td>\n",
              "      <td>...</td>\n",
              "      <td>...</td>\n",
              "      <td>...</td>\n",
              "      <td>...</td>\n",
              "      <td>...</td>\n",
              "      <td>...</td>\n",
              "    </tr>\n",
              "    <tr>\n",
              "      <th>3328</th>\n",
              "      <td>AZ</td>\n",
              "      <td>192</td>\n",
              "      <td>415</td>\n",
              "      <td>No</td>\n",
              "      <td>Yes</td>\n",
              "      <td>36</td>\n",
              "      <td>156.20000</td>\n",
              "      <td>77</td>\n",
              "      <td>26.55000</td>\n",
              "      <td>215.50000</td>\n",
              "      <td>126</td>\n",
              "      <td>18.32000</td>\n",
              "      <td>279.10000</td>\n",
              "      <td>83</td>\n",
              "      <td>12.56000</td>\n",
              "      <td>9.90000</td>\n",
              "      <td>6</td>\n",
              "      <td>2.67000</td>\n",
              "      <td>2</td>\n",
              "      <td>False</td>\n",
              "      <td>0.17000</td>\n",
              "      <td>0.09000</td>\n",
              "      <td>0.05000</td>\n",
              "    </tr>\n",
              "    <tr>\n",
              "      <th>3329</th>\n",
              "      <td>WV</td>\n",
              "      <td>68</td>\n",
              "      <td>415</td>\n",
              "      <td>No</td>\n",
              "      <td>No</td>\n",
              "      <td>0</td>\n",
              "      <td>231.10000</td>\n",
              "      <td>57</td>\n",
              "      <td>39.29000</td>\n",
              "      <td>153.40000</td>\n",
              "      <td>55</td>\n",
              "      <td>13.04000</td>\n",
              "      <td>191.30000</td>\n",
              "      <td>123</td>\n",
              "      <td>8.61000</td>\n",
              "      <td>9.60000</td>\n",
              "      <td>4</td>\n",
              "      <td>2.59000</td>\n",
              "      <td>3</td>\n",
              "      <td>False</td>\n",
              "      <td>0.17000</td>\n",
              "      <td>0.09000</td>\n",
              "      <td>0.05000</td>\n",
              "    </tr>\n",
              "    <tr>\n",
              "      <th>3330</th>\n",
              "      <td>RI</td>\n",
              "      <td>28</td>\n",
              "      <td>510</td>\n",
              "      <td>No</td>\n",
              "      <td>No</td>\n",
              "      <td>0</td>\n",
              "      <td>180.80000</td>\n",
              "      <td>109</td>\n",
              "      <td>30.74000</td>\n",
              "      <td>288.80000</td>\n",
              "      <td>58</td>\n",
              "      <td>24.55000</td>\n",
              "      <td>191.90000</td>\n",
              "      <td>91</td>\n",
              "      <td>8.64000</td>\n",
              "      <td>14.10000</td>\n",
              "      <td>6</td>\n",
              "      <td>3.81000</td>\n",
              "      <td>2</td>\n",
              "      <td>False</td>\n",
              "      <td>0.17000</td>\n",
              "      <td>0.09000</td>\n",
              "      <td>0.05000</td>\n",
              "    </tr>\n",
              "    <tr>\n",
              "      <th>3331</th>\n",
              "      <td>CT</td>\n",
              "      <td>184</td>\n",
              "      <td>510</td>\n",
              "      <td>Yes</td>\n",
              "      <td>No</td>\n",
              "      <td>0</td>\n",
              "      <td>213.80000</td>\n",
              "      <td>105</td>\n",
              "      <td>36.35000</td>\n",
              "      <td>159.60000</td>\n",
              "      <td>84</td>\n",
              "      <td>13.57000</td>\n",
              "      <td>139.20000</td>\n",
              "      <td>137</td>\n",
              "      <td>6.26000</td>\n",
              "      <td>5.00000</td>\n",
              "      <td>10</td>\n",
              "      <td>1.35000</td>\n",
              "      <td>2</td>\n",
              "      <td>False</td>\n",
              "      <td>0.17000</td>\n",
              "      <td>0.09000</td>\n",
              "      <td>0.04000</td>\n",
              "    </tr>\n",
              "    <tr>\n",
              "      <th>3332</th>\n",
              "      <td>TN</td>\n",
              "      <td>74</td>\n",
              "      <td>415</td>\n",
              "      <td>No</td>\n",
              "      <td>Yes</td>\n",
              "      <td>25</td>\n",
              "      <td>234.40000</td>\n",
              "      <td>113</td>\n",
              "      <td>39.85000</td>\n",
              "      <td>265.90000</td>\n",
              "      <td>82</td>\n",
              "      <td>22.60000</td>\n",
              "      <td>241.40000</td>\n",
              "      <td>77</td>\n",
              "      <td>10.86000</td>\n",
              "      <td>13.70000</td>\n",
              "      <td>4</td>\n",
              "      <td>3.70000</td>\n",
              "      <td>0</td>\n",
              "      <td>False</td>\n",
              "      <td>0.17000</td>\n",
              "      <td>0.08000</td>\n",
              "      <td>0.04000</td>\n",
              "    </tr>\n",
              "  </tbody>\n",
              "</table>\n",
              "<p>3333 rows × 23 columns</p>\n",
              "</div>"
            ],
            "text/plain": [
              "     State  Account length  Area code  ... Day tariff Eve tariff  Night tariff\n",
              "0       KS             128        415  ...    0.17000    0.09000       0.04000\n",
              "1       OH             107        415  ...    0.17000    0.09000       0.05000\n",
              "2       NJ             137        415  ...    0.17000    0.08000       0.05000\n",
              "3       OH              84        408  ...    0.17000    0.08000       0.04000\n",
              "4       OK              75        415  ...    0.17000    0.09000       0.04000\n",
              "...    ...             ...        ...  ...        ...        ...           ...\n",
              "3328    AZ             192        415  ...    0.17000    0.09000       0.05000\n",
              "3329    WV              68        415  ...    0.17000    0.09000       0.05000\n",
              "3330    RI              28        510  ...    0.17000    0.09000       0.05000\n",
              "3331    CT             184        510  ...    0.17000    0.09000       0.04000\n",
              "3332    TN              74        415  ...    0.17000    0.08000       0.04000\n",
              "\n",
              "[3333 rows x 23 columns]"
            ]
          },
          "metadata": {},
          "execution_count": 12
        }
      ]
    },
    {
      "cell_type": "code",
      "metadata": {
        "id": "ZRbdR5Ff8oA_",
        "colab": {
          "base_uri": "https://localhost:8080/",
          "height": 143
        },
        "outputId": "2a43214c-3abd-4389-a23b-4caac332890e"
      },
      "source": [
        "# Checking the average number of customer service calls between the people who have opted out of service.\n",
        "churn_service_calls = pd.DataFrame(churn_data.groupby(\"Churn\")[\"Customer service calls\"].mean())\n",
        "churn_service_calls"
      ],
      "execution_count": 13,
      "outputs": [
        {
          "output_type": "execute_result",
          "data": {
            "text/html": [
              "<div>\n",
              "<style scoped>\n",
              "    .dataframe tbody tr th:only-of-type {\n",
              "        vertical-align: middle;\n",
              "    }\n",
              "\n",
              "    .dataframe tbody tr th {\n",
              "        vertical-align: top;\n",
              "    }\n",
              "\n",
              "    .dataframe thead th {\n",
              "        text-align: right;\n",
              "    }\n",
              "</style>\n",
              "<table border=\"1\" class=\"dataframe\">\n",
              "  <thead>\n",
              "    <tr style=\"text-align: right;\">\n",
              "      <th></th>\n",
              "      <th>Customer service calls</th>\n",
              "    </tr>\n",
              "    <tr>\n",
              "      <th>Churn</th>\n",
              "      <th></th>\n",
              "    </tr>\n",
              "  </thead>\n",
              "  <tbody>\n",
              "    <tr>\n",
              "      <th>False</th>\n",
              "      <td>1.44982</td>\n",
              "    </tr>\n",
              "    <tr>\n",
              "      <th>True</th>\n",
              "      <td>2.22981</td>\n",
              "    </tr>\n",
              "  </tbody>\n",
              "</table>\n",
              "</div>"
            ],
            "text/plain": [
              "       Customer service calls\n",
              "Churn                        \n",
              "False                 1.44982\n",
              "True                  2.22981"
            ]
          },
          "metadata": {},
          "execution_count": 13
        }
      ]
    },
    {
      "cell_type": "code",
      "metadata": {
        "colab": {
          "base_uri": "https://localhost:8080/"
        },
        "id": "zw4T2CLvh4rc",
        "outputId": "8029c32a-a380-4696-cb3b-033a3d0d7a63"
      },
      "source": [
        "# Ratio of Customer service calls between subscribers who continue to use the service and who have stopped using the operators services.\n",
        "churn_false = float(churn_service_calls.loc[False])\n",
        "churn_true = float(churn_service_calls.loc[True])\n",
        "\n",
        "churn_service_call_ratio = churn_true/churn_false\n",
        "round(churn_service_call_ratio, 2)"
      ],
      "execution_count": 14,
      "outputs": [
        {
          "output_type": "execute_result",
          "data": {
            "text/plain": [
              "1.54"
            ]
          },
          "metadata": {},
          "execution_count": 14
        }
      ]
    },
    {
      "cell_type": "code",
      "metadata": {
        "colab": {
          "base_uri": "https://localhost:8080/",
          "height": 300
        },
        "id": "0f33uSP0kGiz",
        "outputId": "ce21358a-6a4b-4dde-c46c-a4d6f397307f"
      },
      "source": [
        "service_calls_churn = pd.DataFrame(churn_data.loc[churn_data[\"Churn\"] == True, \"Customer service calls\"])\n",
        "service_calls_churn.describe()"
      ],
      "execution_count": 15,
      "outputs": [
        {
          "output_type": "execute_result",
          "data": {
            "text/html": [
              "<div>\n",
              "<style scoped>\n",
              "    .dataframe tbody tr th:only-of-type {\n",
              "        vertical-align: middle;\n",
              "    }\n",
              "\n",
              "    .dataframe tbody tr th {\n",
              "        vertical-align: top;\n",
              "    }\n",
              "\n",
              "    .dataframe thead th {\n",
              "        text-align: right;\n",
              "    }\n",
              "</style>\n",
              "<table border=\"1\" class=\"dataframe\">\n",
              "  <thead>\n",
              "    <tr style=\"text-align: right;\">\n",
              "      <th></th>\n",
              "      <th>Customer service calls</th>\n",
              "    </tr>\n",
              "  </thead>\n",
              "  <tbody>\n",
              "    <tr>\n",
              "      <th>count</th>\n",
              "      <td>483.00000</td>\n",
              "    </tr>\n",
              "    <tr>\n",
              "      <th>mean</th>\n",
              "      <td>2.22981</td>\n",
              "    </tr>\n",
              "    <tr>\n",
              "      <th>std</th>\n",
              "      <td>1.85327</td>\n",
              "    </tr>\n",
              "    <tr>\n",
              "      <th>min</th>\n",
              "      <td>0.00000</td>\n",
              "    </tr>\n",
              "    <tr>\n",
              "      <th>25%</th>\n",
              "      <td>1.00000</td>\n",
              "    </tr>\n",
              "    <tr>\n",
              "      <th>50%</th>\n",
              "      <td>2.00000</td>\n",
              "    </tr>\n",
              "    <tr>\n",
              "      <th>75%</th>\n",
              "      <td>4.00000</td>\n",
              "    </tr>\n",
              "    <tr>\n",
              "      <th>max</th>\n",
              "      <td>9.00000</td>\n",
              "    </tr>\n",
              "  </tbody>\n",
              "</table>\n",
              "</div>"
            ],
            "text/plain": [
              "       Customer service calls\n",
              "count               483.00000\n",
              "mean                  2.22981\n",
              "std                   1.85327\n",
              "min                   0.00000\n",
              "25%                   1.00000\n",
              "50%                   2.00000\n",
              "75%                   4.00000\n",
              "max                   9.00000"
            ]
          },
          "metadata": {},
          "execution_count": 15
        }
      ]
    },
    {
      "cell_type": "code",
      "metadata": {
        "colab": {
          "base_uri": "https://localhost:8080/",
          "height": 300
        },
        "id": "Mp-LTzrTkGIk",
        "outputId": "e955a498-a9d1-42b6-f6e2-e8ba899e6d72"
      },
      "source": [
        "service_calls_nonchurn = pd.DataFrame(churn_data.loc[churn_data[\"Churn\"] == False, \"Customer service calls\"])\n",
        "service_calls_nonchurn.describe()"
      ],
      "execution_count": 16,
      "outputs": [
        {
          "output_type": "execute_result",
          "data": {
            "text/html": [
              "<div>\n",
              "<style scoped>\n",
              "    .dataframe tbody tr th:only-of-type {\n",
              "        vertical-align: middle;\n",
              "    }\n",
              "\n",
              "    .dataframe tbody tr th {\n",
              "        vertical-align: top;\n",
              "    }\n",
              "\n",
              "    .dataframe thead th {\n",
              "        text-align: right;\n",
              "    }\n",
              "</style>\n",
              "<table border=\"1\" class=\"dataframe\">\n",
              "  <thead>\n",
              "    <tr style=\"text-align: right;\">\n",
              "      <th></th>\n",
              "      <th>Customer service calls</th>\n",
              "    </tr>\n",
              "  </thead>\n",
              "  <tbody>\n",
              "    <tr>\n",
              "      <th>count</th>\n",
              "      <td>2850.00000</td>\n",
              "    </tr>\n",
              "    <tr>\n",
              "      <th>mean</th>\n",
              "      <td>1.44982</td>\n",
              "    </tr>\n",
              "    <tr>\n",
              "      <th>std</th>\n",
              "      <td>1.16388</td>\n",
              "    </tr>\n",
              "    <tr>\n",
              "      <th>min</th>\n",
              "      <td>0.00000</td>\n",
              "    </tr>\n",
              "    <tr>\n",
              "      <th>25%</th>\n",
              "      <td>1.00000</td>\n",
              "    </tr>\n",
              "    <tr>\n",
              "      <th>50%</th>\n",
              "      <td>1.00000</td>\n",
              "    </tr>\n",
              "    <tr>\n",
              "      <th>75%</th>\n",
              "      <td>2.00000</td>\n",
              "    </tr>\n",
              "    <tr>\n",
              "      <th>max</th>\n",
              "      <td>8.00000</td>\n",
              "    </tr>\n",
              "  </tbody>\n",
              "</table>\n",
              "</div>"
            ],
            "text/plain": [
              "       Customer service calls\n",
              "count              2850.00000\n",
              "mean                  1.44982\n",
              "std                   1.16388\n",
              "min                   0.00000\n",
              "25%                   1.00000\n",
              "50%                   1.00000\n",
              "75%                   2.00000\n",
              "max                   8.00000"
            ]
          },
          "metadata": {},
          "execution_count": 16
        }
      ]
    },
    {
      "cell_type": "markdown",
      "metadata": {
        "id": "UEnU37bcg5Ax"
      },
      "source": [
        "<h1><strong>Number of Service Calls<strong></h1>\n",
        "<ol>\n",
        "  <li>The subscribers who have stopped using the service of the operator have called 1.54 times more than the subscribers who continue to use the services of the operator.</li>\n",
        "  <li>The high numbers of service calls may be due to poor quality of service or due to lack of attentive and friendly call center executives.</li>\n",
        "  <li>If we look at the 75th Quartile in the service calls for subscribers who have left and who continue to use the services we see that the people who have left called twice as much when compared to the people who are continuing to use the services.</li>\n",
        "</ol>"
      ]
    },
    {
      "cell_type": "code",
      "metadata": {
        "colab": {
          "base_uri": "https://localhost:8080/"
        },
        "id": "wtEw_Wb9UliV",
        "outputId": "5f061cd9-942a-494b-bf85-1e27c5e12ebf"
      },
      "source": [
        "# Converting Categorical Columns into numerical columns\n",
        "\n",
        "# Looking for categorical columns\n",
        "categorical_cols = [cols for cols in churn_data.columns if churn_data[cols].dtype == 'O']\n",
        "categorical_cols"
      ],
      "execution_count": 17,
      "outputs": [
        {
          "output_type": "execute_result",
          "data": {
            "text/plain": [
              "['State', 'International plan', 'Voice mail plan']"
            ]
          },
          "metadata": {},
          "execution_count": 17
        }
      ]
    },
    {
      "cell_type": "code",
      "metadata": {
        "colab": {
          "base_uri": "https://localhost:8080/",
          "height": 424
        },
        "id": "TuiiXC47d-Nh",
        "outputId": "c407e652-2c05-419c-959b-13b274770598"
      },
      "source": [
        "# There are Three Categorical columns in the Dataframe i.e. State, International Plan and Voce mail plan\n",
        "# Checking if these can be converted into numerical features\n",
        "churn_data[[\"State\", \"International plan\", \"Voice mail plan\"]]"
      ],
      "execution_count": 18,
      "outputs": [
        {
          "output_type": "execute_result",
          "data": {
            "text/html": [
              "<div>\n",
              "<style scoped>\n",
              "    .dataframe tbody tr th:only-of-type {\n",
              "        vertical-align: middle;\n",
              "    }\n",
              "\n",
              "    .dataframe tbody tr th {\n",
              "        vertical-align: top;\n",
              "    }\n",
              "\n",
              "    .dataframe thead th {\n",
              "        text-align: right;\n",
              "    }\n",
              "</style>\n",
              "<table border=\"1\" class=\"dataframe\">\n",
              "  <thead>\n",
              "    <tr style=\"text-align: right;\">\n",
              "      <th></th>\n",
              "      <th>State</th>\n",
              "      <th>International plan</th>\n",
              "      <th>Voice mail plan</th>\n",
              "    </tr>\n",
              "  </thead>\n",
              "  <tbody>\n",
              "    <tr>\n",
              "      <th>0</th>\n",
              "      <td>KS</td>\n",
              "      <td>No</td>\n",
              "      <td>Yes</td>\n",
              "    </tr>\n",
              "    <tr>\n",
              "      <th>1</th>\n",
              "      <td>OH</td>\n",
              "      <td>No</td>\n",
              "      <td>Yes</td>\n",
              "    </tr>\n",
              "    <tr>\n",
              "      <th>2</th>\n",
              "      <td>NJ</td>\n",
              "      <td>No</td>\n",
              "      <td>No</td>\n",
              "    </tr>\n",
              "    <tr>\n",
              "      <th>3</th>\n",
              "      <td>OH</td>\n",
              "      <td>Yes</td>\n",
              "      <td>No</td>\n",
              "    </tr>\n",
              "    <tr>\n",
              "      <th>4</th>\n",
              "      <td>OK</td>\n",
              "      <td>Yes</td>\n",
              "      <td>No</td>\n",
              "    </tr>\n",
              "    <tr>\n",
              "      <th>...</th>\n",
              "      <td>...</td>\n",
              "      <td>...</td>\n",
              "      <td>...</td>\n",
              "    </tr>\n",
              "    <tr>\n",
              "      <th>3328</th>\n",
              "      <td>AZ</td>\n",
              "      <td>No</td>\n",
              "      <td>Yes</td>\n",
              "    </tr>\n",
              "    <tr>\n",
              "      <th>3329</th>\n",
              "      <td>WV</td>\n",
              "      <td>No</td>\n",
              "      <td>No</td>\n",
              "    </tr>\n",
              "    <tr>\n",
              "      <th>3330</th>\n",
              "      <td>RI</td>\n",
              "      <td>No</td>\n",
              "      <td>No</td>\n",
              "    </tr>\n",
              "    <tr>\n",
              "      <th>3331</th>\n",
              "      <td>CT</td>\n",
              "      <td>Yes</td>\n",
              "      <td>No</td>\n",
              "    </tr>\n",
              "    <tr>\n",
              "      <th>3332</th>\n",
              "      <td>TN</td>\n",
              "      <td>No</td>\n",
              "      <td>Yes</td>\n",
              "    </tr>\n",
              "  </tbody>\n",
              "</table>\n",
              "<p>3333 rows × 3 columns</p>\n",
              "</div>"
            ],
            "text/plain": [
              "     State International plan Voice mail plan\n",
              "0       KS                 No             Yes\n",
              "1       OH                 No             Yes\n",
              "2       NJ                 No              No\n",
              "3       OH                Yes              No\n",
              "4       OK                Yes              No\n",
              "...    ...                ...             ...\n",
              "3328    AZ                 No             Yes\n",
              "3329    WV                 No              No\n",
              "3330    RI                 No              No\n",
              "3331    CT                Yes              No\n",
              "3332    TN                 No             Yes\n",
              "\n",
              "[3333 rows x 3 columns]"
            ]
          },
          "metadata": {},
          "execution_count": 18
        }
      ]
    },
    {
      "cell_type": "code",
      "metadata": {
        "id": "IZrF8L5hfBd2"
      },
      "source": [
        "#International Plan and Voice mail plan are simple yes and no and thus they can be encoded as 1 or 0 for yes and no respectively.\n",
        "# Canging yes value to 1 and No value to 0 in both the International Plan and Voice mail plan.\n",
        "churn_data[\"International plan\"] = np.where(churn_data[\"International plan\"] == \"Yes\",1,0)\n",
        "churn_data[\"Voice mail plan\"] = np.where(churn_data[\"Voice mail plan\"] == \"Yes\",1,0)"
      ],
      "execution_count": 19,
      "outputs": []
    },
    {
      "cell_type": "code",
      "metadata": {
        "id": "RpIWMRXVf0AZ",
        "colab": {
          "base_uri": "https://localhost:8080/",
          "height": 666
        },
        "outputId": "c55d8922-64bf-42d2-bb26-8e33167bd245"
      },
      "source": [
        "#Using Bar plot to find out number of Customers with International plan active vs number of customers who are not using an international plan\n",
        "v_counts_international = churn_data[\"International plan\"].value_counts()\n",
        "sns.barplot(v_counts_international.index, v_counts_international.values)"
      ],
      "execution_count": 20,
      "outputs": [
        {
          "output_type": "stream",
          "name": "stderr",
          "text": [
            "/usr/local/lib/python3.7/dist-packages/seaborn/_decorators.py:43: FutureWarning: Pass the following variables as keyword args: x, y. From version 0.12, the only valid positional argument will be `data`, and passing other arguments without an explicit keyword will result in an error or misinterpretation.\n",
            "  FutureWarning\n"
          ]
        },
        {
          "output_type": "execute_result",
          "data": {
            "text/plain": [
              "<matplotlib.axes._subplots.AxesSubplot at 0x7f0ecab7ca10>"
            ]
          },
          "metadata": {},
          "execution_count": 20
        },
        {
          "output_type": "display_data",
          "data": {
            "image/png": "[encoded data removed]",
            "text/plain": [
              "<Figure size 1440x720 with 1 Axes>"
            ]
          },
          "metadata": {}
        }
      ]
    },
    {
      "cell_type": "code",
      "metadata": {
        "colab": {
          "base_uri": "https://localhost:8080/",
          "height": 666
        },
        "id": "XRt-Cm-I1MN3",
        "outputId": "33f5a682-cabb-4015-91a0-02afb79fbf2c"
      },
      "source": [
        "v_count_voice = churn_data[\"Voice mail plan\"].value_counts()\n",
        "sns.barplot(v_count_voice.index, v_count_voice.values)"
      ],
      "execution_count": 21,
      "outputs": [
        {
          "output_type": "stream",
          "name": "stderr",
          "text": [
            "/usr/local/lib/python3.7/dist-packages/seaborn/_decorators.py:43: FutureWarning: Pass the following variables as keyword args: x, y. From version 0.12, the only valid positional argument will be `data`, and passing other arguments without an explicit keyword will result in an error or misinterpretation.\n",
            "  FutureWarning\n"
          ]
        },
        {
          "output_type": "execute_result",
          "data": {
            "text/plain": [
              "<matplotlib.axes._subplots.AxesSubplot at 0x7f0ecab2e090>"
            ]
          },
          "metadata": {},
          "execution_count": 21
        },
        {
          "output_type": "display_data",
          "data": {
            "image/png": "[encoded data removed]",
            "text/plain": [
              "<Figure size 1440x720 with 1 Axes>"
            ]
          },
          "metadata": {}
        }
      ]
    },
    {
      "cell_type": "code",
      "metadata": {
        "colab": {
          "base_uri": "https://localhost:8080/"
        },
        "id": "HZQk4lB_1cjc",
        "outputId": "070a20d6-bcf7-41df-8b91-5d17839890dc"
      },
      "source": [
        "churn_data.groupby([\"Churn\", \"International plan\"])[\"International plan\"].count()"
      ],
      "execution_count": 22,
      "outputs": [
        {
          "output_type": "execute_result",
          "data": {
            "text/plain": [
              "Churn  International plan\n",
              "False  0                     2664\n",
              "       1                      186\n",
              "True   0                      346\n",
              "       1                      137\n",
              "Name: International plan, dtype: int64"
            ]
          },
          "metadata": {},
          "execution_count": 22
        }
      ]
    },
    {
      "cell_type": "code",
      "metadata": {
        "id": "j-EDmmNV4WUI"
      },
      "source": [
        "churn_col = churn_data[\"Churn\"]"
      ],
      "execution_count": 23,
      "outputs": []
    },
    {
      "cell_type": "code",
      "metadata": {
        "colab": {
          "base_uri": "https://localhost:8080/",
          "height": 666
        },
        "id": "FUOw9JKi4a-X",
        "outputId": "5bc4445f-4fc9-4ad9-83fc-ac0a9d4d4e0e"
      },
      "source": [
        "# Plotting the correlation of other columns W.R.T. the Churn column to see the effect of columsn on churn\n",
        "sns.barplot(churn_data.corrwith(churn_col).values, churn_data.corrwith(churn_col).index)"
      ],
      "execution_count": 24,
      "outputs": [
        {
          "output_type": "stream",
          "name": "stderr",
          "text": [
            "/usr/local/lib/python3.7/dist-packages/seaborn/_decorators.py:43: FutureWarning: Pass the following variables as keyword args: x, y. From version 0.12, the only valid positional argument will be `data`, and passing other arguments without an explicit keyword will result in an error or misinterpretation.\n",
            "  FutureWarning\n"
          ]
        },
        {
          "output_type": "execute_result",
          "data": {
            "text/plain": [
              "<matplotlib.axes._subplots.AxesSubplot at 0x7f0ecab14850>"
            ]
          },
          "metadata": {},
          "execution_count": 24
        },
        {
          "output_type": "display_data",
          "data": {
            "image/png": "[encoded data removed]",
            "text/plain": [
              "<Figure size 1440x720 with 1 Axes>"
            ]
          },
          "metadata": {}
        }
      ]
    },
    {
      "cell_type": "markdown",
      "metadata": {
        "id": "WuQlCzeJ5jl_"
      },
      "source": [
        "<h1><strong>Insights from the correlation graph above<strong><h1>\n",
        "<ol>\n",
        "  <li>International Plan, Total Day Charge, Total Evening Charge, Total International Charge and Customers service calls have a strong positive correlation with churn.</li>\n",
        "  <li>Voice mail plan, Number of Voicemail messages and Total international calls have a strong negetive correlation with churn.</li>\n",
        "  <li>Night time calling seems to have minimal impact on the churn rate hence it may not be worth analyzing it in-depth.</li>\n",
        "  <li>The approach from hereon would be look at the churn rate from the perspective of categorical columsn i.e. State, International plan and voicemail plan</li>\n",
        "  <li>Then we'll analyze the numerical features for better insight into what might actually be causing the churn.</li>\n",
        "</ol>"
      ]
    },
    {
      "cell_type": "code",
      "metadata": {
        "id": "eoIOaU8940s9",
        "colab": {
          "base_uri": "https://localhost:8080/"
        },
        "outputId": "74e53a60-efaf-4b08-cbd3-7cb60b0802ed"
      },
      "source": [
        "# we alrady have our categorical colums now making a list of numerical columns to better access the data.\n",
        "# Although area code is numerical data type but it actually is categorical so we add it to the categorical column\n",
        "categorical_cols.append(\"Area code\")\n",
        "num_cols = [col for col in churn_data if col not in categorical_cols]\n",
        "num_cols"
      ],
      "execution_count": 25,
      "outputs": [
        {
          "output_type": "execute_result",
          "data": {
            "text/plain": [
              "['Account length',\n",
              " 'Number vmail messages',\n",
              " 'Total day minutes',\n",
              " 'Total day calls',\n",
              " 'Total day charge',\n",
              " 'Total eve minutes',\n",
              " 'Total eve calls',\n",
              " 'Total eve charge',\n",
              " 'Total night minutes',\n",
              " 'Total night calls',\n",
              " 'Total night charge',\n",
              " 'Total intl minutes',\n",
              " 'Total intl calls',\n",
              " 'Total intl charge',\n",
              " 'Customer service calls',\n",
              " 'Churn',\n",
              " 'Day tariff',\n",
              " 'Eve tariff',\n",
              " 'Night tariff']"
            ]
          },
          "metadata": {},
          "execution_count": 25
        }
      ]
    },
    {
      "cell_type": "code",
      "metadata": {
        "colab": {
          "base_uri": "https://localhost:8080/",
          "height": 628
        },
        "id": "jST1wkD88UoL",
        "outputId": "c642de00-f656-47a5-c44b-b2fb049bb274"
      },
      "source": [
        "# Looking at the State column and churn\n",
        "churn_by_state = churn_data.groupby(\"State\")[\"Churn\"].mean().sort_values(ascending=False)\n",
        "sns.barplot(x = churn_by_state.index, y = churn_by_state.values)"
      ],
      "execution_count": 26,
      "outputs": [
        {
          "output_type": "execute_result",
          "data": {
            "text/plain": [
              "<matplotlib.axes._subplots.AxesSubplot at 0x7f0eca653c50>"
            ]
          },
          "metadata": {},
          "execution_count": 26
        },
        {
          "output_type": "display_data",
          "data": {
            "image/png": "[encoded data removed]",
            "text/plain": [
              "<Figure size 1440x720 with 1 Axes>"
            ]
          },
          "metadata": {}
        }
      ]
    },
    {
      "cell_type": "code",
      "metadata": {
        "id": "Rv7VhxSgC6-d"
      },
      "source": [
        "# Setting the figure size for the matplotlib library\n",
        "# Change this as per your screen size and resolution\n",
        "plt.rcParams[\"figure.figsize\"] = (20, 10)"
      ],
      "execution_count": 27,
      "outputs": []
    },
    {
      "cell_type": "code",
      "metadata": {
        "id": "ZArmGfy0RJUc",
        "colab": {
          "base_uri": "https://localhost:8080/",
          "height": 636
        },
        "outputId": "c1839fc0-847e-49b9-f635-1d3b695f8ecb"
      },
      "source": [
        "churn_state = pd.DataFrame(churn_data.groupby(\"State\")[\"Churn\"].value_counts().unstack())\n",
        "churn_state.plot(kind=\"bar\", stacked = True)"
      ],
      "execution_count": 28,
      "outputs": [
        {
          "output_type": "execute_result",
          "data": {
            "text/plain": [
              "<matplotlib.axes._subplots.AxesSubplot at 0x7f0eca27b650>"
            ]
          },
          "metadata": {},
          "execution_count": 28
        },
        {
          "output_type": "display_data",
          "data": {
            "image/png": "[encoded data removed]",
            "text/plain": [
              "<Figure size 1440x720 with 1 Axes>"
            ]
          },
          "metadata": {}
        }
      ]
    },
    {
      "cell_type": "code",
      "metadata": {
        "colab": {
          "base_uri": "https://localhost:8080/"
        },
        "id": "yc7d-MX6TFl5",
        "outputId": "a5f20c78-c87d-46ed-a092-2314444a99d2"
      },
      "source": [
        "# Number of average subsricers lost by each \n",
        "# Mean churn is the average of True values\n",
        "mean_churn_of_states = churn_state.mean()\n",
        "mean_churn_of_states"
      ],
      "execution_count": 34,
      "outputs": [
        {
          "output_type": "execute_result",
          "data": {
            "text/plain": [
              "Churn\n",
              "False   55.88235\n",
              "True     9.47059\n",
              "dtype: float64"
            ]
          },
          "metadata": {},
          "execution_count": 34
        }
      ]
    },
    {
      "cell_type": "code",
      "metadata": {
        "colab": {
          "base_uri": "https://localhost:8080/"
        },
        "id": "Y3gVNMkRThr7",
        "outputId": "29925432-0c67-44b3-de8c-009386d58725"
      },
      "source": [
        "# Getting average number of subscribers in each state\n",
        "mean_cust_by_state = churn_data.groupby(\"State\")[\"State\"].count().mean()\n",
        "mean_cust_by_state"
      ],
      "execution_count": 35,
      "outputs": [
        {
          "output_type": "execute_result",
          "data": {
            "text/plain": [
              "65.3529411764706"
            ]
          },
          "metadata": {},
          "execution_count": 35
        }
      ]
    },
    {
      "cell_type": "code",
      "metadata": {
        "colab": {
          "base_uri": "https://localhost:8080/"
        },
        "id": "DqshbBzxT-Jw",
        "outputId": "d4d597e3-0f2f-4e7f-b945-df0050854514"
      },
      "source": [
        "# Percentage rate of churn of all states\n",
        "p_churn_of_state = (mean_churn_of_states/mean_cust_by_state)*100\n",
        "p_churn_of_state"
      ],
      "execution_count": 37,
      "outputs": [
        {
          "output_type": "execute_result",
          "data": {
            "text/plain": [
              "Churn\n",
              "False   85.50855\n",
              "True    14.49145\n",
              "dtype: float64"
            ]
          },
          "metadata": {},
          "execution_count": 37
        }
      ]
    },
    {
      "cell_type": "markdown",
      "metadata": {
        "id": "nHL9KOL2R5FK"
      },
      "source": [
        "<h1>Churn by State</h1>\n",
        "<ol>\n",
        "  <li>From the above two graphs it is clearly seen that the CA, NJ, TZ, MD and SC are the top five states which have a churn rate of more than or around 25%. These states have lost 1/4th of the customer base in the period to which the data pertains to.</li>\n",
        "  <li>HI, AK, AZ, VA and IA are the fve states with lowest rate of churn of around 5% or lower. These states have a loyal customer base</li>\n",
        "  <li>On an average the telecom operator has lost an average of 9.5 subscribers from each state</li>\n",
        "  <li>There are 65 subscibers on an average from each state</li>\n",
        "  <li>On an average states have lost 14.50% of their subscribers in the period.</li>\n",
        "</ol>"
      ]
    },
    {
      "cell_type": "code",
      "metadata": {
        "colab": {
          "base_uri": "https://localhost:8080/",
          "height": 112
        },
        "id": "d73V4F6jVCyu",
        "outputId": "c7f18b4c-01fb-4389-aea0-780528e634de"
      },
      "source": [
        "# checking the relationship of voicemail plan with the rate of churn\n",
        "v_group = churn_data.loc[churn_data[\"Voice mail plan\"] == 1].groupby(\"Voice mail plan\")[\"Churn\"].value_counts().unstack()\n",
        "v_group"
      ],
      "execution_count": 40,
      "outputs": [
        {
          "output_type": "execute_result",
          "data": {
            "text/html": [
              "<div>\n",
              "<style scoped>\n",
              "    .dataframe tbody tr th:only-of-type {\n",
              "        vertical-align: middle;\n",
              "    }\n",
              "\n",
              "    .dataframe tbody tr th {\n",
              "        vertical-align: top;\n",
              "    }\n",
              "\n",
              "    .dataframe thead th {\n",
              "        text-align: right;\n",
              "    }\n",
              "</style>\n",
              "<table border=\"1\" class=\"dataframe\">\n",
              "  <thead>\n",
              "    <tr style=\"text-align: right;\">\n",
              "      <th>Churn</th>\n",
              "      <th>False</th>\n",
              "      <th>True</th>\n",
              "    </tr>\n",
              "    <tr>\n",
              "      <th>Voice mail plan</th>\n",
              "      <th></th>\n",
              "      <th></th>\n",
              "    </tr>\n",
              "  </thead>\n",
              "  <tbody>\n",
              "    <tr>\n",
              "      <th>1</th>\n",
              "      <td>842</td>\n",
              "      <td>80</td>\n",
              "    </tr>\n",
              "  </tbody>\n",
              "</table>\n",
              "</div>"
            ],
            "text/plain": [
              "Churn            False  True \n",
              "Voice mail plan              \n",
              "1                  842     80"
            ]
          },
          "metadata": {},
          "execution_count": 40
        }
      ]
    },
    {
      "cell_type": "code",
      "metadata": {
        "colab": {
          "base_uri": "https://localhost:8080/",
          "height": 568
        },
        "id": "NMR_e4_7VYJo",
        "outputId": "7761dc21-a85f-44e5-c8aa-ec16029b57d8"
      },
      "source": [
        "total_cust_by_vplan = v_group[False] + v_group[True]\n",
        "print(f\"Total customers who have an active Voicemail Plan is {total_cust_by_vplan.values[0]}\\n\")\n",
        "churn_rate_by_vplan = (v_group[True]/total_cust_by_vplan)*100\n",
        "print(f\"Churn Rate by Voice mail plan is {round(churn_rate_by_vplan.values[0], 2)} %\")\n",
        "v_group.plot(kind = \"bar\")"
      ],
      "execution_count": 72,
      "outputs": [
        {
          "output_type": "stream",
          "name": "stdout",
          "text": [
            "Total customers who have an active Voicemail Plan is 922\n",
            "\n",
            "Churn Rate by Voice mail plan is 8.68 %\n"
          ]
        },
        {
          "output_type": "execute_result",
          "data": {
            "text/plain": [
              "<matplotlib.axes._subplots.AxesSubplot at 0x7f0ec47d3f50>"
            ]
          },
          "metadata": {},
          "execution_count": 72
        },
        {
          "output_type": "display_data",
          "data": {
            "image/png": "[encoded data removed]",
            "text/plain": [
              "<Figure size 720x576 with 1 Axes>"
            ]
          },
          "metadata": {}
        }
      ]
    },
    {
      "cell_type": "code",
      "metadata": {
        "colab": {
          "base_uri": "https://localhost:8080/",
          "height": 588
        },
        "id": "vwHzMaawXrBu",
        "outputId": "74271a16-1230-46bc-d2a6-f4e594dfcb0b"
      },
      "source": [
        "#setting new RC param to avoid error\n",
        "plt.rcParams[\"figure.figsize\"] = (10, 8)\n",
        "#Finding Percentage of People Having Voice mail plan\n",
        "total_subscribers = len(churn_data)\n",
        "# Percentage of subscribers having Voice mail plan\n",
        "perc_vplan = (total_cust_by_vplan.values[0] / total_subscribers)*100\n",
        "print(f\"Percentage of subscribers having a voice mail plan is {round(perc_vplan,2)} % our of {total_subscribers} subscribers\")\n",
        "print(\"_______________________________________________________________________\\n\")\n",
        "plt.pie([total_subscribers-total_cust_by_vplan.values[0], total_cust_by_vplan.values[0]], labels=[\"Non Voice Plan Customers\", \"Voice Plan Customers\"])"
      ],
      "execution_count": 70,
      "outputs": [
        {
          "output_type": "stream",
          "name": "stdout",
          "text": [
            "Percentage of subscribers having a voice mail plan is 27.66 % our of 3333 subscribers\n",
            "_______________________________________________________________________\n",
            "\n"
          ]
        },
        {
          "output_type": "execute_result",
          "data": {
            "text/plain": [
              "([<matplotlib.patches.Wedge at 0x7f0ec482f950>,\n",
              "  <matplotlib.patches.Wedge at 0x7f0ec482fd90>],\n",
              " [Text(-0.7101064093897655, 0.840088618744222, 'Non Voice Plan Customers'),\n",
              "  Text(0.7101064093897654, -0.8400886187442221, 'Voice Plan Customers')])"
            ]
          },
          "metadata": {},
          "execution_count": 70
        },
        {
          "output_type": "display_data",
          "data": {
            "image/png": "[encoded data removed]",
            "text/plain": [
              "<Figure size 720x576 with 1 Axes>"
            ]
          },
          "metadata": {}
        }
      ]
    },
    {
      "cell_type": "markdown",
      "metadata": {
        "id": "rjQluwP_XExd"
      },
      "source": [
        "<h1>Churn Rate with respect to the Voice Plan</h1>\n",
        "<ol>\n",
        "  <li>27.66% or of subscribers have a Voice mail plan, 27.66% is a significant number of subscribers.</li>\n",
        "  <li>Out of 922 subscribers who have an active voicemail plan 80 or 8.68% subscribers have stopped using the services of the operator.</li>\n",
        "  <li>A level of unsatisfaction is obeserved when the Churn is measured in relation to the Voice mail plan.</li>\n",
        "  <li>However, churn rate of 8.68% is lower than the average churn rate of 14.50% overall.</li>\n",
        "  <li>Nonetheless, a deeper analysis of the operators Voice mail plan is warranted when it comes to the Churn Rate.</li>\n",
        "</ol>"
      ]
    },
    {
      "cell_type": "code",
      "metadata": {
        "colab": {
          "base_uri": "https://localhost:8080/"
        },
        "id": "N-d4uYovb-JG",
        "outputId": "1cd87588-3efa-4954-bebd-ff2f45dcc1af"
      },
      "source": [
        "#Checking relationship of International Plan wit respect to the churn rate.\n",
        "\n",
        "int_group = churn_data.groupby(\"International plan\")[\"Churn\"].value_counts().unstack()\n",
        "\n",
        "# Total number of subscribers who have a International Plan\n",
        "total_cust_int_plan = int_group.iloc[1][False] + int_group.iloc[1][False]\n",
        "\n",
        "# Percentage of customers who have international plan.\n",
        "perc_int_plan = (total_cust_int_plan / total_subscribers)*100\n",
        "print(f\"{round(perc_int_plan,2)}% or {total_cust_int_plan} subscribers have an international plan out of {total_subscribers} subscribers\")"
      ],
      "execution_count": 82,
      "outputs": [
        {
          "output_type": "stream",
          "name": "stdout",
          "text": [
            "11.16% or 372 subscribers have an international plan out of 3333 subscribers\n"
          ]
        }
      ]
    },
    {
      "cell_type": "code",
      "metadata": {
        "colab": {
          "base_uri": "https://localhost:8080/",
          "height": 516
        },
        "id": "wU8nAB7McXS7",
        "outputId": "cb75c344-ebb1-4de3-d3a8-d6679014cf54"
      },
      "source": [
        "int_group.plot(kind='bar')"
      ],
      "execution_count": 90,
      "outputs": [
        {
          "output_type": "execute_result",
          "data": {
            "text/plain": [
              "<matplotlib.axes._subplots.AxesSubplot at 0x7f0ec4628290>"
            ]
          },
          "metadata": {},
          "execution_count": 90
        },
        {
          "output_type": "display_data",
          "data": {
            "image/png": "[encoded data removed]",
            "text/plain": [
              "<Figure size 720x576 with 1 Axes>"
            ]
          },
          "metadata": {}
        }
      ]
    },
    {
      "cell_type": "markdown",
      "metadata": {
        "id": "_mjK6cspdloL"
      },
      "source": [
        ""
      ]
    }
  ]
}